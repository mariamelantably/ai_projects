{
 "cells": [
  {
   "cell_type": "markdown",
   "metadata": {},
   "source": [
    "# Retreival Augmented Generation - RAG\n",
    "RAG is a method used to increase accuracy, mitigate problems related to privacy and knowledge cuttofs, and reduce potential hallucinations when using LLMs. The following code presents both a simple RAG and a hybrid RAG for cat facts. \n",
    "Credits go to: https://huggingface.co/blog/ngxson/make-your-own-rag\n",
    "\n",
    "## Simple RAG\n",
    "The following simple RAG uses the dataset and simply searches for the most similar matches. We begin by loading the dataset and some examples."
   ]
  },
  {
   "cell_type": "code",
   "execution_count": 78,
   "metadata": {},
   "outputs": [
    {
     "name": "stdout",
     "output_type": "stream",
     "text": [
      "Loaded 150 entries\n",
      "['On average, cats spend 2/3 of every day sleeping. That means a nine-year-old cat has been awake for only three years of its life.\\n', 'Unlike dogs, cats do not have a sweet tooth. Scientists believe this is due to a mutation in a key taste receptor.\\n', 'When a cat chases its prey, it keeps its head level. Dogs and humans bob their heads up and down.\\n', 'The technical term for a cat’s hairball is a “bezoar.”\\n', 'A group of cats is called a “clowder.”\\n', 'Female cats tend to be right pawed, while male cats are more often left pawed. Interestingly, while 90% of humans are right handed, the remaining 10% of lefties also tend to be male.\\n', 'A cat can’t climb head first down a tree because every claw on a cat’s paw points the same way. To get down from a tree, a cat must back down.\\n', 'Cats make about 100 different sounds. Dogs make only about 10.\\n', 'A cat’s brain is biologically more similar to a human brain than it is to a dog’s. Both humans and cats have identical regions in their brains that are responsible for emotions.\\n', 'There are more than 500 million domestic cats in the world, with approximately 40 recognized breeds.\\n', 'While it is commonly thought that the ancient Egyptians were the first to domesticate cats, the oldest known pet cat was recently found in a 9,500-year-old grave on the Mediterranean island of Cyprus. This grave predates early Egyptian art depicting cats by 4,000 years or more.\\n', 'During the time of the Spanish Inquisition, Pope Innocent VIII condemned cats as evil and thousands of cats were burned. Unfortunately, the widespread killing of cats led to an explosion of the rat population, which exacerbated the effects of the Black Death.\\n', 'During the Middle Ages, cats were associated with witchcraft, and on St. John’s Day, people all over Europe would stuff them into sacks and toss the cats into bonfires. On holy days, people celebrated by tossing cats from church towers.\\n', 'Cats are North America’s most popular pets: there are 73 million cats compared to 63 million dogs. Over 30% of households in North America own a cat.\\n', 'The first cat in space was a French cat named Felicette (a.k.a. “Astrocat”) In 1963, France blasted the cat into outer space. Electrodes implanted in her brains sent neurological signals back to Earth. She survived the trip.\\n', 'The group of words associated with cat ( catt, cath, chat, katze ) stem from the Latin catus , meaning domestic cat, as opposed to feles , or wild cat.\\n', 'The term “puss” is the root of the principal word for “cat” in the Romanian term pisica and the root of secondary words in Lithuanian ( puz ) and Low German puus . Some scholars suggest that “puss” could be imitative of the hissing sound used to get a cat’s attention. As a slang word for the female pudenda, it could be associated with the connotation of a cat being soft, warm, and fuzzy.\\n', 'Approximately 40,000 people are bitten by cats in the U.S. annually.\\n', 'According to Hebrew legend, Noah prayed to God for help protecting all the food he stored on the ark from being eaten by rats. In reply, God made the lion sneeze, and out popped a cat.\\n', 'A cat’s hearing is better than a dog’s. And a cat can hear high-frequency sounds up to two octaves higher than a human.\\n', 'A cat can travel at a top speed of approximately 31 mph (49 km) over a short distance.\\n', 'A cat can jump up to five times its own height in a single bound.\\n', 'Some cats have survived falls of over 65 feet (20 meters), due largely to their “righting reflex.” The eyes and balance organs in the inner ear tell it where it is in space so the cat can land on its feet. Even cats without a tail have this ability.\\n', 'A cat rubs against people not only to be affectionate but also to mark out its territory with scent glands around its face. The tail area and paws also carry the cat’s scent.\\n', 'Researchers are unsure exactly how a cat purrs. Most veterinarians believe that a cat purrs by vibrating vocal folds deep in the throat. To do this, a muscle in the larynx opens and closes the air passage about 25 times per second.\\n', 'When a family cat died in ancient Egypt, family members would mourn by shaving off their eyebrows. They also held elaborate funerals during which they drank wine and beat their breasts. The cat was embalmed with a sculpted wooden mask and the tiny mummy was placed in the family tomb or in a pet cemetery with tiny mummies of mice.\\n', 'In 1888, more than 300,000 mummified cats were found an Egyptian cemetery. They were stripped of their wrappings and carted off to be used by farmers in England and the U.S. for fertilizer.\\n', 'Most cats give birth to a litter of between one and nine kittens. The largest known litter ever produced was 19 kittens, of which 15 survived.\\n', 'Smuggling a cat out of ancient Egypt was punishable by death. Phoenician traders eventually succeeded in smuggling felines, which they sold to rich people in Athens and other important cities.\\n', 'The earliest ancestor of the modern cat lived about 30 million years ago. Scientists called it the Proailurus , which means “first cat” in Greek. The group of animals that pet cats belong to emerged around 12 million years ago.\\n', 'The biggest wildcat today is the Siberian Tiger. It can be more than 12 feet (3.6 m) long (about the size of a small car) and weigh up to 700 pounds (317 kg).\\n', 'The smallest wildcat today is the Black-footed cat. The females are less than 20 inches (50 cm) long and can weigh as little as 2.5 lbs. (1.2 kg).\\n', 'Many Egyptians worshipped the goddess Bast, who had a woman’s body and a cat’s head.\\n', 'Mohammed loved cats and reportedly his favorite cat, Muezza, was a tabby. Legend says that tabby cats have an “M” for Mohammed on top of their heads because Mohammad would often rest his hand on the cat’s head.\\n', 'While many parts of Europe and North America consider the black cat a sign of bad luck, in Britain and Australia, black cats are considered lucky.\\n', 'The most popular pedigreed cat is the Persian cat, followed by the Main Coon cat and the Siamese cat.\\n', 'The smallest pedigreed cat is a Singapura, which can weigh just 4 lbs. (1.8 kg), or about five large cans of cat food. The largest pedigreed cats are Maine Coon cats, which can weigh 25 lbs. (11.3 kg), or nearly twice as much as an average cat weighs.\\n', 'Some Siamese cats appear cross-eyed because the nerves from the left side of the brain go to mostly the right eye and the nerves from the right side of the brain go mostly to the left eye. This causes some double vision, which the cat tries to correct by “crossing” its eyes.\\n', 'Researchers believe the word “tabby” comes from Attabiyah, a neighborhood in Baghdad, Iraq. Tabbies got their name because their striped coats resembled the famous wavy patterns in the silk produced in this city.\\n', 'Cats hate the water because their fur does not insulate well when it’s wet. The Turkish Van, however, is one cat that likes swimming. Bred in central Asia, its coat has a unique texture that makes it water resistant.\\n', 'The Egyptian Mau is probably the oldest breed of cat. In fact, the breed is so ancient that its name is the Egyptian word for “cat.”\\n', 'The costliest cat ever is named Little Nicky, who cost his owner $50,000. He is a clone of an older cat.\\n', 'A cat usually has about 12 whiskers on each side of its face.\\n', 'A cat’s eyesight is both better and worse than humans. It is better because cats can see in much dimmer light and they have a wider peripheral view. It’s worse because they don’t see color as well as humans do. Scientists believe grass appears red to cats.\\n', 'Spanish-Jewish folklore recounts that Adam’s first wife, Lilith, became a black vampire cat, sucking the blood from sleeping babies. This may be the root of the superstition that a cat will smother a sleeping baby or suck out the child’s breath.\\n', 'Perhaps the most famous comic cat is the Cheshire Cat in Lewis Carroll’s Alice in Wonderland. With the ability to disappear, this mysterious character embodies the magic and sorcery historically associated with cats.\\n', 'In the original Italian version of Cinderella, the benevolent fairy godmother figure was a cat.\\n', 'In Holland’s embassy in Moscow, Russia, the staff noticed that the two Siamese cats kept meowing and clawing at the walls of the building. Their owners finally investigated, thinking they would find mice. Instead, they discovered microphones hidden by Russian spies. The cats heard the microphones when they turned on.\\n', 'The little tufts of hair in a cat’s ear that help keep out dirt direct sounds into the ear, and insulate the ears are called “ear furnishings.”\\n', 'The ability of a cat to find its way home is called “psi-traveling.” Experts think cats either use the angle of the sunlight to find their way or that cats have magnetized cells in their brains that act as compasses.\\n', 'Isaac Newton invented the cat flap. Newton was experimenting in a pitch-black room. Spithead, one of his cats, kept opening the door and wrecking his experiment. The cat flap kept both Newton and Spithead happy.\\n', 'The world’s rarest coffee, Kopi Luwak, comes from Indonesia where a wildcat known as the luwak lives. The cat eats coffee berries and the coffee beans inside pass through the stomach. The beans are harvested from the cat’s dung heaps and then cleaned and roasted. Kopi Luwak sells for about $500 for a 450 g (1 lb) bag.\\n', 'A cat’s jaw can’t move sideways, so a cat can’t chew large chunks of food.\\n', 'A cat almost never meows at another cat, mostly just humans. Cats typically will spit, purr, and hiss at other cats.\\n', 'A cat’s back is extremely flexible because it has up to 53 loosely fitting vertebrae. Humans only have 34.\\n', 'Approximately 1/3 of cat owners think their pets are able to read their minds.\\n', 'All cats have claws, and all except the cheetah sheath them when at rest.\\n', 'Two members of the cat family are distinct from all others: the clouded leopard and the cheetah. The clouded leopard does not roar like other big cats, nor does it groom or rest like small cats. The cheetah is unique because it is a running cat; all others are leaping cats. They are leaping cats because they slowly stalk their prey and then leap on it.\\n', 'A cat lover is called an Ailurophilia (Greek: cat+lover).\\n', 'In Japan, cats are thought to have the power to turn into super spirits when they die. This may be because according to the Buddhist religion, the body of the cat is the temporary resting place of very spiritual people.\\n', 'Most cats had short hair until about 100 years ago, when it became fashionable to own cats and experiment with breeding.\\n', 'Cats have 32 muscles that control the outer ear (humans have only 6). A cat can independently rotate its ears 180 degrees.\\n', 'One reason that kittens sleep so much is because a growth hormone is released only during sleep.\\n', 'Cats have about 130,000 hairs per square inch (20,155 hairs per square centimeter). i\\n', 'The heaviest cat on record is Himmy, a Tabby from Queensland, Australia. He weighed nearly 47 pounds (21 kg). He died at the age of 10.\\n', 'The oldest cat on record was Crème Puff from Austin, Texas, who lived from 1967 to August 6, 2005, three days after her 38th birthday. A cat typically can live up to 20 years, which is equivalent to about 96 human years.\\n', 'The lightest cat on record is a blue point Himalayan called Tinker Toy, who weighed 1 pound, 6 ounces (616 g). Tinker Toy was 2.75 inches (7 cm) tall and 7.5 inches (19 cm) long.\\n', 'The tiniest cat on record is Mr. Pebbles, a 2-year-old cat that weighed 3 lbs (1.3 k) and was 6.1 inches (15.5 cm) high.\\n', 'A commemorative tower was built in Scotland for a cat named Towser, who caught nearly 30,000 mice in her lifetime.\\n', 'In the 1750s, Europeans introduced cats into the Americas to control pests.\\n', 'The first cat show was organized in 1871 in London. Cat shows later became a worldwide craze.\\n', 'The first cartoon cat was Felix the Cat in 1919. In 1940, Tom and Jerry starred in the first theatrical cartoon “Puss Gets the Boot.” In 1981 Andrew Lloyd Weber created the musical Cats , based on T.S. Eliot’s Old Possum’s Book of Practical Cats.\\n', 'The normal body temperature of a cat is between 100.5 ° and 102.5 °F. A cat is sick if its temperature goes below 100 ° or above 103 °F.\\n', 'A cat has 230 bones in its body. A human has 206. A cat has no collarbone, so it can fit through any opening the size of its head.\\n', 'A cat’s nose pad is ridged with a unique pattern, just like the fingerprint of a human.\\n', 'If they have ample water, cats can tolerate temperatures up to 133 °F.\\n', 'Foods that should not be given to cats include onions, garlic, green tomatoes, raw potatoes, chocolate, grapes, and raisins. Though milk is not toxic, it can cause an upset stomach and gas. Tylenol and aspirin are extremely toxic to cats, as are many common houseplants. Feeding cats dog food or canned tuna that’s for human consumption can cause malnutrition.\\n', 'A 2007 Gallup poll revealed that both men and women were equally likely to own a cat.\\n', 'A cat’s heart beats nearly twice as fast as a human heart, at 110 to 140 beats a minute.\\n', 'Cats don’t have sweat glands over their bodies like humans do. Instead, they sweat only through their paws.\\n', 'In just seven years, a single pair of cats and their offspring could produce a staggering total of 420,000 kittens.\\n', 'Relative to its body size, the clouded leopard has the biggest canines of all animals’ canines. Its dagger-like teeth can be as long as 1.8 inches (4.5 cm).\\n', 'Cats spend nearly 1/3 of their waking hours cleaning themselves.\\n', 'Grown cats have 30 teeth. Kittens have about 26 temporary teeth, which they lose when they are about 6 months old.\\n', 'A cat called Dusty has the known record for the most kittens. She had more than 420 kittens in her lifetime.\\n', 'The largest cat breed is the Ragdoll. Male Ragdolls weigh between 12 and 20 lbs. (5.4-9.0 k). Females weigh between 10 and 15 lbs. (4.5-6.8 k).\\n', 'Cats are extremely sensitive to vibrations. Cats are said to detect earthquake tremors 10 or 15 minutes before humans can.\\n', 'In contrast to dogs, cats have not undergone major changes during their domestication process.\\n', 'A female cat is called a queen or a molly.\\n', 'In the 1930s, two Russian biologists discovered that color change in Siamese kittens depend on their body temperature. Siamese cats carry albino genes that work only when the body temperature is above 98° F. If these kittens are left in a very warm room, their points won’t darken and they will stay a creamy white.\\n', 'There are up to 60 million feral cats in the United States alone.\\n', 'The oldest cat to give birth was Kitty who, at the age of 30, gave birth to two kittens. During her life, she gave birth to 218 kittens.\\n', 'The most traveled cat is Hamlet, who escaped from his carrier while on a flight. He hid for seven weeks behind a pane. By the time he was discovered, he had traveled nearly 373,000 miles (600,000 km).\\n', 'The most expensive cat was an Asian Leopard cat (ALC)-Domestic Shorthair (DSH) hybrid named Zeus. Zeus, who is 90% ALC and 10% DSH, has an asking price of £100,000 ($154,000).\\n', 'The cat who holds the record for the longest non-fatal fall is Andy. He fell from the 16 th floor of an apartment building (about 200 ft/.06 km) and survived.\\n', 'The richest cat is Blackie who was left £15 million by his owner, Ben Rea.\\n', 'The claws on the cat’s back paws aren’t as sharp as the claws on the front paws because the claws in the back don’t retract and, consequently, become worn.\\n', 'Cats have five toes on each front paw, but only four toes on each back paw.\\n', 'Cats are sometimes born with extra toes. This is called polydactyl. These toes will not harm the cat, but you should keep his claws trimmed just like any toe.\\n', 'Cats have true fur, in that they have both an undercoat and an outer coat.\\n', 'Newborn kittens have closed ear canals that don’t begin to open for nine days. When the eyes open, they are always blue at first. They change color over a period of months to the final eye color.\\n', 'Most cats have no eyelashes.\\n', 'Cats have a full inner-eyelid, or nictitating membrane. This inner-eyelid serves to help protect the eyes from dryness and damage. When the cat is ill, the inner-eyelid will frequently close partially, making it visible to the observer.\\n', 'A cat cannot see directly under its nose. This is why the cat cannot seem to find tidbits on the floor.\\n', 'You can tell a cat’s mood by looking into its eyes. A frightened or excited cat will have large, round pupils. An angry cat will have narrow pupils. The pupil size is related as much to the cat’s emotions as to the degree of light.\\n', 'It is a common belief that cats are color blind. However, recent studies have shown that cats can see blue, green and red.\\n', 'A large majority of white cats with blue eyes are deaf. White cats with only one blue eye are deaf only in the ear closest to the blue eye. White cats with orange eyes do not have this disability.\\n', 'Cats with white fur and skin on their ears are very prone to sunburn. Frequent sunburns can lead to skin cancer. Many white cats need surgery to remove all or part of a cancerous ear. Preventive measures include sunscreen, or better, keeping the cat indoors.\\n', 'A cat can jump even seven times as high as it is tall.\\n', 'The cat’s footpads absorb the shocks of the landing when the cat jumps.\\n', 'Cats lack a true collarbone. Because of this lack, cats can generally squeeze their bodies through any space they can get their heads through. You may have seen a cat testing the size of an opening by careful measurement with the head.\\n', 'If left to her own devices, a female cat may have three to seven kittens every four months. This is why population control using neutering and spaying is so important.\\n', 'A cat is pregnant for about 58-65 days.\\n', 'Mother cats teach their kittens to use the litter box.\\n', 'The way you treat kittens in the early stages of its life will render it’s personality traits later in life.\\n', 'Contrary to popular belief, the cat is a social animal. A pet cat will respond and answer to speech, and seems to enjoy human companionship.\\n', 'When well treated, a cat can live twenty or more years but the average life span of a domestic cat is 14 years.\\n', 'Neutering a cat extends its life span by two or three years.\\n', 'Cats, especially older cats, do get cancer. Many times this disease can be treated successfully.\\n', 'Cats can’t taste sweets.\\n', 'Cats must have fat in their diet because they can’t produce it on their own.\\n', 'Some common houseplants poisonous to cats include: English Ivy, iris, mistletoe, philodendron, and yew.\\n', 'Tylenol and chocolate are both poisonous to cats.\\n', 'Many cats cannot properly digest cow’s milk. Milk and milk products give them diarrhea.\\n', 'The average cat food meal is the equivalent to about five mice.\\n', 'Cats can get tapeworms from eating fleas. These worms live inside the cat forever, or until they are removed with medication. They reproduce by shedding a link from the end of their long bodies. This link crawls out the cat’s anus, and sheds hundreds of eggs. These eggs are injected by flea larvae, and the cycle continues. Humans may get these tapeworms too, but only if they eat infected fleas. Cats with tapeworms should be dewormed by a veterinarian.\\n', 'Cats can get tapeworms from eating mice. If your cat catches a mouse it is best to take the prize away from it.\\n', 'Though rare, cats can contract canine heart worms.\\n', 'The gene in cats that causes the orange coat color are sexed linked, and is on the X sex chromosome. This gene may display orange or black. Thus, as female cat with two X chromosomes may have orange and black colors in its coat. A male, with only one X chromosome, can have only orange or black, not both.\\n', 'If a male cat is both orange and black it is (besides being extremely rare ) sterile. To have both the orange and the black coat colors, the male cat must have all or part of both female X chromosomes. This unusual sex chromosome combination will render the male cat sterile.\\n', 'Cats have AB blood groups just like people.\\n', 'A form of AIDS exists in cats.\\n', 'The color of the points in Siamese cats is heat related. Cool areas are darker.\\n', 'Siamese kittens are born white because of the heat inside the mother’s uterus before birth. This heat keeps the kittens’ hair from darkening on the points.\\n', 'People who are allergic to cats are actually allergic to cat saliva or to cat dander. If the resident cat is bathed regularly the allergic people tolerate it better.\\n', 'Studies now show that the allergen in cats is related to their scent glands. Cats have scent glands on their faces and at the base of their tails. Entire male cats generate the most scent. If this secretion from the scent glands is the allergen, allergic people should tolerate spayed female cats the best.\\n', 'Cats do not think that they are little people. They think that we are big cats. This influences their behavior in many ways.\\n', 'Cats are subject to gum disease and to dental caries. They should have their teeth cleaned by the vet or the cat dentist once a year.\\n', 'Many people fear catching a protozoan disease, Toxoplasmosis, from cats. This disease can cause illness in the human, but more seriously, can cause birth defects in the unborn. Toxoplasmosis is a common disease, sometimes spread through the feces of cats. It is caused most often from eating raw or rare beef. Pregnant women and people with a depressed immune system should not touch the cat litter box. Other than that, there is no reason that these people have to avoid cats.\\n', 'The ancestor of all domestic cats is the African Wild Cat which still exists today.\\n', 'In ancient Egypt, killing a cat was a crime punishable by death.\\n', 'In ancient Egypt, mummies were made of cats, and embalmed mice were placed with them in their tombs. In one ancient city, over 300,000 cat mummies were found.\\n', 'In the middle Ages, during the Festival of Saint John, cats were burned alive in town squares.\\n', 'The first cat show was in 1871 at the Crystal Palace in London.\\n', 'Today there are about 100 distinct breeds of the domestic cat.\\n', 'Like birds, cats have a homing ability that uses its biological clock, the angle of the sun, and the Earth’s magnetic field. A cat taken far from its home can return to it. But if a cat’s owners move far from its home, the cat can’t find them.\\n', 'Cats bury their feces to cover their trails from predators.\\n', 'Cats sleep 16 to 18 hours per day. When cats are asleep, they are still alert to incoming stimuli. If you poke the tail of a sleeping cat, it will respond accordingly.\\n', 'Besides smelling with their nose, cats can smell with an additional organ called the Jacobson’s organ, located in the upper surface of the mouth.\\n', 'The chlorine in fresh tap water irritates sensitive parts of the cat’s nose. Let tap water sit for 24 hours before giving it to a cat.']\n"
     ]
    }
   ],
   "source": [
    "dataset = []\n",
    "with open('cat-facts.txt', 'r') as file:\n",
    "    dataset = file.readlines()\n",
    "    print(f'Loaded {len(dataset)} entries')\n",
    "print(dataset)"
   ]
  },
  {
   "cell_type": "markdown",
   "metadata": {},
   "source": [
    "Next, we embed the datasets as vectors and create a database. We use simple chunking by dividing each fact into a chunk."
   ]
  },
  {
   "cell_type": "code",
   "execution_count": 79,
   "metadata": {},
   "outputs": [],
   "source": [
    "import ollama\n",
    "EMBEDDING_MODEL = 'hf.co/CompendiumLabs/bge-base-en-v1.5-gguf'\n",
    "LANGUAGE_MODEL = 'hf.co/bartowski/Llama-3.2-1B-Instruct-GGUF'\n",
    "vector_db = []\n",
    "def add_chunk_to_database(chunk):\n",
    "    embedding = ollama.embed(model = EMBEDDING_MODEL, input = chunk)['embeddings'][0]\n",
    "    vector_db.append((chunk, embedding))"
   ]
  },
  {
   "cell_type": "code",
   "execution_count": 80,
   "metadata": {},
   "outputs": [
    {
     "name": "stdout",
     "output_type": "stream",
     "text": [
      "Added chunk 1/150 to the database\n",
      "Added chunk 2/150 to the database\n",
      "Added chunk 3/150 to the database\n",
      "Added chunk 4/150 to the database\n",
      "Added chunk 5/150 to the database\n",
      "Added chunk 6/150 to the database\n",
      "Added chunk 7/150 to the database\n",
      "Added chunk 8/150 to the database\n",
      "Added chunk 9/150 to the database\n",
      "Added chunk 10/150 to the database\n",
      "Added chunk 11/150 to the database\n",
      "Added chunk 12/150 to the database\n",
      "Added chunk 13/150 to the database\n",
      "Added chunk 14/150 to the database\n",
      "Added chunk 15/150 to the database\n",
      "Added chunk 16/150 to the database\n",
      "Added chunk 17/150 to the database\n",
      "Added chunk 18/150 to the database\n",
      "Added chunk 19/150 to the database\n",
      "Added chunk 20/150 to the database\n",
      "Added chunk 21/150 to the database\n",
      "Added chunk 22/150 to the database\n",
      "Added chunk 23/150 to the database\n",
      "Added chunk 24/150 to the database\n",
      "Added chunk 25/150 to the database\n",
      "Added chunk 26/150 to the database\n",
      "Added chunk 27/150 to the database\n",
      "Added chunk 28/150 to the database\n",
      "Added chunk 29/150 to the database\n",
      "Added chunk 30/150 to the database\n",
      "Added chunk 31/150 to the database\n",
      "Added chunk 32/150 to the database\n",
      "Added chunk 33/150 to the database\n",
      "Added chunk 34/150 to the database\n",
      "Added chunk 35/150 to the database\n",
      "Added chunk 36/150 to the database\n",
      "Added chunk 37/150 to the database\n",
      "Added chunk 38/150 to the database\n",
      "Added chunk 39/150 to the database\n",
      "Added chunk 40/150 to the database\n",
      "Added chunk 41/150 to the database\n",
      "Added chunk 42/150 to the database\n",
      "Added chunk 43/150 to the database\n",
      "Added chunk 44/150 to the database\n",
      "Added chunk 45/150 to the database\n",
      "Added chunk 46/150 to the database\n",
      "Added chunk 47/150 to the database\n",
      "Added chunk 48/150 to the database\n",
      "Added chunk 49/150 to the database\n",
      "Added chunk 50/150 to the database\n",
      "Added chunk 51/150 to the database\n",
      "Added chunk 52/150 to the database\n",
      "Added chunk 53/150 to the database\n",
      "Added chunk 54/150 to the database\n",
      "Added chunk 55/150 to the database\n",
      "Added chunk 56/150 to the database\n",
      "Added chunk 57/150 to the database\n",
      "Added chunk 58/150 to the database\n",
      "Added chunk 59/150 to the database\n",
      "Added chunk 60/150 to the database\n",
      "Added chunk 61/150 to the database\n",
      "Added chunk 62/150 to the database\n",
      "Added chunk 63/150 to the database\n",
      "Added chunk 64/150 to the database\n",
      "Added chunk 65/150 to the database\n",
      "Added chunk 66/150 to the database\n",
      "Added chunk 67/150 to the database\n",
      "Added chunk 68/150 to the database\n",
      "Added chunk 69/150 to the database\n",
      "Added chunk 70/150 to the database\n",
      "Added chunk 71/150 to the database\n",
      "Added chunk 72/150 to the database\n",
      "Added chunk 73/150 to the database\n",
      "Added chunk 74/150 to the database\n",
      "Added chunk 75/150 to the database\n",
      "Added chunk 76/150 to the database\n",
      "Added chunk 77/150 to the database\n",
      "Added chunk 78/150 to the database\n",
      "Added chunk 79/150 to the database\n",
      "Added chunk 80/150 to the database\n",
      "Added chunk 81/150 to the database\n",
      "Added chunk 82/150 to the database\n",
      "Added chunk 83/150 to the database\n",
      "Added chunk 84/150 to the database\n",
      "Added chunk 85/150 to the database\n",
      "Added chunk 86/150 to the database\n",
      "Added chunk 87/150 to the database\n",
      "Added chunk 88/150 to the database\n",
      "Added chunk 89/150 to the database\n",
      "Added chunk 90/150 to the database\n",
      "Added chunk 91/150 to the database\n",
      "Added chunk 92/150 to the database\n",
      "Added chunk 93/150 to the database\n",
      "Added chunk 94/150 to the database\n",
      "Added chunk 95/150 to the database\n",
      "Added chunk 96/150 to the database\n",
      "Added chunk 97/150 to the database\n",
      "Added chunk 98/150 to the database\n",
      "Added chunk 99/150 to the database\n",
      "Added chunk 100/150 to the database\n",
      "Added chunk 101/150 to the database\n",
      "Added chunk 102/150 to the database\n",
      "Added chunk 103/150 to the database\n",
      "Added chunk 104/150 to the database\n",
      "Added chunk 105/150 to the database\n",
      "Added chunk 106/150 to the database\n",
      "Added chunk 107/150 to the database\n",
      "Added chunk 108/150 to the database\n",
      "Added chunk 109/150 to the database\n",
      "Added chunk 110/150 to the database\n",
      "Added chunk 111/150 to the database\n",
      "Added chunk 112/150 to the database\n",
      "Added chunk 113/150 to the database\n",
      "Added chunk 114/150 to the database\n",
      "Added chunk 115/150 to the database\n",
      "Added chunk 116/150 to the database\n",
      "Added chunk 117/150 to the database\n",
      "Added chunk 118/150 to the database\n",
      "Added chunk 119/150 to the database\n",
      "Added chunk 120/150 to the database\n",
      "Added chunk 121/150 to the database\n",
      "Added chunk 122/150 to the database\n",
      "Added chunk 123/150 to the database\n",
      "Added chunk 124/150 to the database\n",
      "Added chunk 125/150 to the database\n",
      "Added chunk 126/150 to the database\n",
      "Added chunk 127/150 to the database\n",
      "Added chunk 128/150 to the database\n",
      "Added chunk 129/150 to the database\n",
      "Added chunk 130/150 to the database\n",
      "Added chunk 131/150 to the database\n",
      "Added chunk 132/150 to the database\n",
      "Added chunk 133/150 to the database\n",
      "Added chunk 134/150 to the database\n",
      "Added chunk 135/150 to the database\n",
      "Added chunk 136/150 to the database\n",
      "Added chunk 137/150 to the database\n",
      "Added chunk 138/150 to the database\n",
      "Added chunk 139/150 to the database\n",
      "Added chunk 140/150 to the database\n",
      "Added chunk 141/150 to the database\n",
      "Added chunk 142/150 to the database\n",
      "Added chunk 143/150 to the database\n",
      "Added chunk 144/150 to the database\n",
      "Added chunk 145/150 to the database\n",
      "Added chunk 146/150 to the database\n",
      "Added chunk 147/150 to the database\n",
      "Added chunk 148/150 to the database\n",
      "Added chunk 149/150 to the database\n",
      "Added chunk 150/150 to the database\n"
     ]
    }
   ],
   "source": [
    "for i, chunk in enumerate(dataset):\n",
    "    add_chunk_to_database(chunk)\n",
    "    print(f'Added chunk {i+1}/{len(dataset)} to the database')"
   ]
  },
  {
   "cell_type": "markdown",
   "metadata": {},
   "source": [
    "The next step is the retreival step. We begin by defining a function to work ot the cosine similarity of two vectors."
   ]
  },
  {
   "cell_type": "code",
   "execution_count": 81,
   "metadata": {},
   "outputs": [],
   "source": [
    "def cosine_similarity(a, b):\n",
    "    dot_product = sum([x * y for x, y in zip(a, b)])\n",
    "    norm_a = sum([ x ** 2 for x in a]) ** 0.5\n",
    "    norm_b = sum([x ** 2 for x in b]) ** 0.5\n",
    "    return dot_product/(norm_a * norm_b)"
   ]
  },
  {
   "cell_type": "markdown",
   "metadata": {},
   "source": [
    "The query is then embededed using the same embedding model. Each chunk is then compared in simialrity to the embedding and the top n chunks are returned. "
   ]
  },
  {
   "cell_type": "code",
   "execution_count": 82,
   "metadata": {},
   "outputs": [],
   "source": [
    "def retrieve(query, top_n = 3):\n",
    "    query_embedding = ollama.embed(model = EMBEDDING_MODEL, input = query)['embeddings'][0]\n",
    "    similarities = []\n",
    "    for chunk, embedding in vector_db:\n",
    "        similarity = cosine_similarity(query_embedding, embedding)\n",
    "        similarities.append((chunk, similarity))\n",
    "    similarities.sort(key = lambda x: x[1], reverse = True)\n",
    "    return similarities[:top_n]"
   ]
  },
  {
   "cell_type": "markdown",
   "metadata": {},
   "source": [
    "The next step is augmentation, which begins by taking the input query. We retreive the knowledge then create a new prompt with our most similar knowledge as context for the LLM. "
   ]
  },
  {
   "cell_type": "code",
   "execution_count": 83,
   "metadata": {},
   "outputs": [
    {
     "name": "stdout",
     "output_type": "stream",
     "text": [
      "Retrieved knowledge: \n",
      " - (siumilarity: 0.80) Cats are North America’s most popular pets: there are 73 million cats compared to 63 million dogs. Over 30% of households in North America own a cat.\n",
      "\n",
      " - (siumilarity: 0.74) Approximately 40,000 people are bitten by cats in the U.S. annually.\n",
      "\n",
      " - (siumilarity: 0.74) There are up to 60 million feral cats in the United States alone.\n",
      "\n"
     ]
    }
   ],
   "source": [
    "input_query = input(\"Ask me a Question: \")\n",
    "retreived_knowledge = retrieve(input_query)\n",
    "\n",
    "print('Retrieved knowledge: ')\n",
    "for chunk, similarity in retreived_knowledge:\n",
    "    print(f' - (siumilarity: {similarity:.2f}) {chunk}')\n",
    "instruction_prompt = f''' You are a helpful chatbot. \n",
    "Use only the following pieces of context to answer the question. Don't make up any new information:\n",
    "{'\\n'.join([f' - {chunk}' for chunk, _ in retreived_knowledge])}\n",
    "'''"
   ]
  },
  {
   "cell_type": "markdown",
   "metadata": {},
   "source": [
    "Finally, the augmented system prompt is passed to the LLM and the response from the LLM is returned."
   ]
  },
  {
   "cell_type": "code",
   "execution_count": 84,
   "metadata": {},
   "outputs": [
    {
     "name": "stdout",
     "output_type": "stream",
     "text": [
      "Chatbot response: \n",
      "Based on the information provided, it is estimated that there are approximately 60 million feral cats in the United States."
     ]
    }
   ],
   "source": [
    "stream = ollama.chat(\n",
    "  model=LANGUAGE_MODEL,\n",
    "  messages=[\n",
    "    {'role': 'system', 'content': instruction_prompt},\n",
    "    {'role': 'user', 'content': input_query},\n",
    "  ],\n",
    "  stream=True,\n",
    ")\n",
    "\n",
    "print('Chatbot response: ')\n",
    "for chunk in stream:\n",
    "    print(chunk['message']['content'], end = '', flush = True)"
   ]
  },
  {
   "cell_type": "markdown",
   "metadata": {},
   "source": [
    "To show a comparison between RAG and non-RAG responses, the following 5 questions are fed to the model using both RAG and just the model's knowledge base. The RAG answers are more accurate and answer the questions more concisely, while the non-RAG answers incldue more hallucinations. "
   ]
  },
  {
   "cell_type": "code",
   "execution_count": 40,
   "metadata": {},
   "outputs": [
    {
     "name": "stdout",
     "output_type": "stream",
     "text": [
      "RAG vs non-RAG\n",
      "\n",
      "\n",
      "Question: How fast can cats travel?\n",
      "RAG:\n",
      "A cat can travel at approximately 31 mph (49 km) over a short distance.\n",
      "Non-RAG: \n",
      "Mice, which are small rodents, can travel 9 miles per hour.\n",
      "\n",
      "Question: How much do cats sleep?\n",
      "RAG:\n",
      "Cats typically sleep 16 to 18 hours per day.\n",
      "Non-RAG: \n",
      "Cats typically sleep for 16-18 hours per day, with a short period of wakefulness to eat, drink, and use the bathroom.\n",
      "\n",
      "Question: How can cats get tapeworms?\n",
      "RAG:\n",
      "Cats can get tapeworms from eating fleas or mice that have ingested infected tapeworm eggs.\n",
      "Non-RAG: \n",
      "Cats can get tapeworms from fleas, which are often found in the same environments as cats. The parasite is usually transmitted to the cat through the flea's feces or its saliva when it bites the cat while feeding on blood.\n",
      "\n",
      "Question: How many breeds of cats are there?\n",
      "RAG:\n",
      "According to the information given, there are:\n",
      "\n",
      "* Over 100 distinct breeds of domestic cats.\n",
      "* More than 500 million domestic cats in the world, with at least 40 recognized breeds.\n",
      "Non-RAG: \n",
      "There are over 70 recognized cat breeds worldwide.\n",
      "\n",
      "Question: How do cats smell?\n",
      "RAG:\n",
      "Cats can smell with an organ called Jacobson’s organ located in the upper surface of their mouth.\n",
      "Non-RAG: \n",
      "Cats have scent glands on their faces, near their cheeks and lips. They also have scent glands under their tongues. When they rub these areas against surfaces, they release pheromones which contain their scent."
     ]
    }
   ],
   "source": [
    "print(\"RAG vs non-RAG\")\n",
    "questions = [\"How fast can cats travel?\", \"How much do cats sleep?\", \"How can cats get tapeworms?\", \"How many breeds of cats are there?\", \"How do cats smell?\"]\n",
    "non_RAG_prompt = \"You are a helpful chatbot. Use your knowledge base to answer the question. Please answer the question as simply as you can and do not stray or add additional information that isn't in the question.\"\n",
    "for q in questions:\n",
    "    print(\"\\n\")\n",
    "    print(f\"Question: {q}\")\n",
    "    print(\"RAG:\")\n",
    "\n",
    "    retreived_knowledge = retrieve(q)\n",
    "\n",
    "    instruction_prompt = f''' You are a helpful chatbot. \n",
    "    Use only the following pieces of context to answer the question. Don't make up any new information. Please answer the question as simply as you can and do not stray or add additional information that isn't in the question.:\n",
    "    {'\\n'.join([f' - {chunk}' for chunk, _ in retreived_knowledge])}\n",
    "    '''\n",
    "\n",
    "    stream = ollama.chat(\n",
    "    model=LANGUAGE_MODEL,\n",
    "    messages=[\n",
    "        {'role': 'system', 'content': instruction_prompt},\n",
    "        {'role': 'user', 'content': q},\n",
    "    ],\n",
    "    stream=True,\n",
    "    )\n",
    "    for chunk in stream:\n",
    "        print(chunk['message']['content'], end = '', flush = True)\n",
    "    print(\"\")\n",
    "    print(\"Non-RAG: \")\n",
    "    stream = ollama.chat(\n",
    "    model=LANGUAGE_MODEL,\n",
    "    messages=[\n",
    "        {'role': 'system', 'content': non_RAG_prompt},\n",
    "        {'role': 'user', 'content': q},\n",
    "    ],\n",
    "    stream=True,\n",
    "    )\n",
    "    for chunk in stream:\n",
    "        print(chunk['message']['content'], end = '', flush = True)\n",
    "\n",
    "    "
   ]
  },
  {
   "cell_type": "markdown",
   "metadata": {},
   "source": [
    "## Hybrid RAG\n",
    "The next step is to implement a hybrid RAG, which uses both a dense index and a sparse index to allow the model to return results even when a different phrasing/synonyms are used. \n",
    "\n",
    "Firstly, I created the dense index using FAISS to embed the dataset"
   ]
  },
  {
   "cell_type": "code",
   "execution_count": 23,
   "metadata": {},
   "outputs": [],
   "source": [
    "#create dense index\n",
    "import faiss\n",
    "from sentence_transformers import SentenceTransformer\n",
    "model = SentenceTransformer('all-MiniLM-L6-v2')\n",
    "vectors = model.encode(dataset)\n",
    "index_d = faiss.IndexFlatL2(len(vectors[0]))\n",
    "index_d.add(vectors)"
   ]
  },
  {
   "cell_type": "markdown",
   "metadata": {},
   "source": [
    "I then used BM25 via HuggingFace to create the sparse index. "
   ]
  },
  {
   "cell_type": "code",
   "execution_count": 24,
   "metadata": {},
   "outputs": [],
   "source": [
    "from huggingface_hub import login\n",
    "login(token=\"YOUR_HUGGING_FACE_TOKEN\")"
   ]
  },
  {
   "cell_type": "code",
   "execution_count": 25,
   "metadata": {},
   "outputs": [
    {
     "name": "stderr",
     "output_type": "stream",
     "text": [
      "Finding newlines for mmindex: 100%|██████████| 26.3k/26.3k [00:00<00:00, 16.8MB/s]\n",
      "Processing Files (0 / 0)                : |          |  0.00B /  0.00B            \n",
      "\u001b[A\n",
      "\n",
      "\u001b[A\u001b[A\n",
      "\n",
      "\n",
      "\u001b[A\u001b[A\u001b[A\n",
      "\u001b[A\n",
      "\n",
      "\u001b[A\u001b[A\n",
      "\n",
      "\n",
      "Processing Files (3 / 3)                : 100%|██████████| 25.2kB / 25.2kB,   ???B/s  \n",
      "\u001b[A\n",
      "\n",
      "\u001b[A\u001b[A\n",
      "\n",
      "\n",
      "\u001b[A\u001b[A\u001b[A\n",
      "\u001b[A\n",
      "\n",
      "\u001b[A\u001b[A\n",
      "\n",
      "\n",
      "\u001b[A\u001b[A\u001b[A\n",
      "\u001b[A\n",
      "\n",
      "\u001b[A\u001b[A\n",
      "\n",
      "\n",
      "\u001b[A\u001b[A\u001b[A\n",
      "\u001b[A\n",
      "\n",
      "\u001b[A\u001b[A\n",
      "\n",
      "\n",
      "\u001b[A\u001b[A\u001b[A\n",
      "\u001b[A\n",
      "\n",
      "\u001b[A\u001b[A\n",
      "\n",
      "\n",
      "Processing Files (3 / 3)                : 100%|██████████| 25.2kB / 25.2kB,  0.00B/s  \n",
      "New Data Upload                         : |          |  0.00B /  0.00B,  0.00B/s  \n",
      "  ...gn/T/tmpyux0r645/data.csc.index.npy: 100%|██████████| 9.97kB / 9.97kB            \n",
      "  ...T/tmpyux0r645/indices.csc.index.npy: 100%|██████████| 9.97kB / 9.97kB            \n",
      "  .../T/tmpyux0r645/indptr.csc.index.npy: 100%|██████████| 5.29kB / 5.29kB            \n",
      "No files have been modified since last commit. Skipping to prevent empty commit.\n"
     ]
    },
    {
     "data": {
      "text/plain": [
       "RepoUrl('https://huggingface.co/mariam-elantable/bm25s-cats', endpoint='https://huggingface.co', repo_type='model', repo_id='mariam-elantable/bm25s-cats')"
      ]
     },
     "execution_count": 25,
     "metadata": {},
     "output_type": "execute_result"
    }
   ],
   "source": [
    "#create sparse index\n",
    "import bm25s\n",
    "from bm25s.hf import BM25HF\n",
    "\n",
    "retreiver = BM25HF(corpus=dataset)\n",
    "retreiver.index(bm25s.tokenize(dataset))\n",
    "\n",
    "user = \"mariam-elantable\"\n",
    "retreiver.save_to_hub(f\"{user}/bm25s-cats\")"
   ]
  },
  {
   "cell_type": "markdown",
   "metadata": {},
   "source": [
    "The next step is to implement the retreival process, which begins by first finding the dense similarities and the sparse similarities, taking the ranked lists and combining them using reciprocal rank fusion. The top n matches are then returned. "
   ]
  },
  {
   "cell_type": "code",
   "execution_count": 62,
   "metadata": {},
   "outputs": [],
   "source": [
    "def retrieve_hybrid(query, top_n = 3, k = 50, K = 60):\n",
    "    dense_embedding = model.encode([query])\n",
    "    dist_d, indices_d = index_d.search(dense_embedding, k)\n",
    "    retreiver = BM25HF.load_from_hub(f\"{user}/bm25s-cats\", load_corpus = True)\n",
    "    docs_s, scores_s = retreiver.retrieve(bm25s.tokenize(query), k = k)\n",
    "    docs_d = [(dataset[indices_d[0][i]], i) for i in range(k)]\n",
    "    docs_s = [(docs_s[0][i], i) for i in range(k)]\n",
    "    sorted_docs = []\n",
    "    for doc, rank in docs_d:\n",
    "        score = 1.0/(K + rank)\n",
    "        s = 0\n",
    "        i = 0\n",
    "        while ((i < k)):\n",
    "            if (docs_s[i][0] != doc):\n",
    "                i+= 1\n",
    "            else:\n",
    "                break\n",
    "\n",
    "        if (i < len(docs_s)): score += 1.0/(K + i)\n",
    "        sorted_docs.append((doc, score))\n",
    "    sorted_docs.sort(key = lambda x: x[1], reverse = True)\n",
    "    return sorted_docs[:top_n]   "
   ]
  },
  {
   "cell_type": "markdown",
   "metadata": {},
   "source": [
    "Finally, the augmentation and generation steps are run, which are the same as those in the simple RAG model, to generate a response based on the given information."
   ]
  },
  {
   "cell_type": "code",
   "execution_count": 85,
   "metadata": {},
   "outputs": [
    {
     "name": "stderr",
     "output_type": "stream",
     "text": [
      "Fetching 9 files: 100%|██████████| 9/9 [00:00<00:00, 52067.22it/s]\n",
      "                                                     "
     ]
    },
    {
     "name": "stdout",
     "output_type": "stream",
     "text": [
      "Retrieved knowledge: \n",
      " - (siumilarity: 0.02) Cats sleep 16 to 18 hours per day. When cats are asleep, they are still alert to incoming stimuli. If you poke the tail of a sleeping cat, it will respond accordingly.\n",
      "\n",
      " - (siumilarity: 0.02) On average, cats spend 2/3 of every day sleeping. That means a nine-year-old cat has been awake for only three years of its life.\n",
      "\n",
      " - (siumilarity: 0.02) Cats spend nearly 1/3 of their waking hours cleaning themselves.\n",
      "\n"
     ]
    },
    {
     "name": "stderr",
     "output_type": "stream",
     "text": [
      "\r"
     ]
    }
   ],
   "source": [
    "input_query = input(\"Ask me a Question: \")\n",
    "retreived_knowledge = retrieve_hybrid(input_query)\n",
    "\n",
    "print('Retrieved knowledge: ')\n",
    "for chunk, similarity in retreived_knowledge:\n",
    "    print(f' - (siumilarity: {similarity:.2f}) {chunk}')\n",
    "instruction_prompt = f''' You are a helpful chatbot. \n",
    "Use only the following pieces of context to answer the question. Don't make up any new information:\n",
    "{'\\n'.join([f' - {chunk}' for chunk, _ in retreived_knowledge])}\n",
    "'''"
   ]
  },
  {
   "cell_type": "code",
   "execution_count": 86,
   "metadata": {},
   "outputs": [
    {
     "name": "stdout",
     "output_type": "stream",
     "text": [
      "Chatbot response: \n",
      "Cats are notorious for being sleepy, and they actually spend around 16 to 18 hours per day snoozing! That's why it can be a challenge to wake them up if you need something. Even when they're not sleeping, they're still highly alert and may respond quickly to their surroundings."
     ]
    }
   ],
   "source": [
    "LANGUAGE_MODEL = 'hf.co/bartowski/Llama-3.2-1B-Instruct-GGUF'\n",
    "stream = ollama.chat(\n",
    "  model=LANGUAGE_MODEL,\n",
    "  messages=[\n",
    "    {'role': 'system', 'content': instruction_prompt},\n",
    "    {'role': 'user', 'content': input_query},\n",
    "  ],\n",
    "  stream=True,\n",
    ")\n",
    "\n",
    "print('Chatbot response: ')\n",
    "for chunk in stream:\n",
    "    print(chunk['message']['content'], end = '', flush = True)"
   ]
  }
 ],
 "metadata": {
  "kernelspec": {
   "display_name": "Python 3",
   "language": "python",
   "name": "python3"
  },
  "language_info": {
   "codemirror_mode": {
    "name": "ipython",
    "version": 3
   },
   "file_extension": ".py",
   "mimetype": "text/x-python",
   "name": "python",
   "nbconvert_exporter": "python",
   "pygments_lexer": "ipython3",
   "version": "3.12.2"
  }
 },
 "nbformat": 4,
 "nbformat_minor": 2
}
