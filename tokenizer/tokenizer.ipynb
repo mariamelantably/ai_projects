{
 "cells": [
  {
   "cell_type": "markdown",
   "metadata": {},
   "source": [
    "# Tokenizer\n",
    "This code aims to create a tokenizer and embed data from the \"the-verdict.txt\" text file. The source for this exercise is from: https://github.com/rasbt/LLMs-from-scratch/blob/main/ch02/01_main-chapter-code/ch02.ipynb\n",
    "\n",
    "First, we import the text file and look at how many characters we have. "
   ]
  },
  {
   "cell_type": "code",
   "execution_count": 8,
   "metadata": {},
   "outputs": [],
   "source": [
    "if not os.path.exists(\"the-verdict.txt\"):\n",
    "       url = (\"https://raw.githubusercontent.com/rasbt/\"\n",
    "              \"LLMs-from-scratch/main/ch02/01_main-chapter-code/\"\n",
    "              \"the-verdict.txt\")\n",
    "       file_path = \"the-verdict.txt\"\n",
    "       urllib.request.urlretrieve(url, file_path)"
   ]
  },
  {
   "cell_type": "code",
   "execution_count": 9,
   "metadata": {},
   "outputs": [
    {
     "name": "stdout",
     "output_type": "stream",
     "text": [
      "Total number of character: 20479\n",
      "I HAD always thought Jack Gisburn rather a cheap genius--though a good fellow enough--so it was no \n"
     ]
    }
   ],
   "source": [
    "with open(\"the-verdict.txt\", \"r\", encoding=\"utf-8\") as f:\n",
    "    raw_text = f.read()\n",
    "\n",
    "print(\"Total number of character:\", len(raw_text))\n",
    "print(raw_text[:99])"
   ]
  },
  {
   "cell_type": "markdown",
   "metadata": {},
   "source": [
    "## Tokenizing text\n",
    "We use regex to split on commas, full stops, and spaces, converting into an array."
   ]
  },
  {
   "cell_type": "code",
   "execution_count": 22,
   "metadata": {},
   "outputs": [
    {
     "name": "stdout",
     "output_type": "stream",
     "text": [
      "['Hello', ',', 'world', '.', 'This', ',', 'is', 'a', 'test']\n"
     ]
    }
   ],
   "source": [
    "text = \"Hello, world. This, is a test\"\n",
    "result = re.split(r'([,.]|\\s)', text)\n",
    "result = [item for item in result if item.strip()]\n",
    "print(result)"
   ]
  },
  {
   "cell_type": "markdown",
   "metadata": {},
   "source": [
    "Next, we add all other types of punctuation into our regex expression."
   ]
  },
  {
   "cell_type": "code",
   "execution_count": 25,
   "metadata": {},
   "outputs": [
    {
     "name": "stdout",
     "output_type": "stream",
     "text": [
      "['Hello', ',', 'world', '.', 'Is', 'this', '--', 'a', 'test', '?']\n"
     ]
    }
   ],
   "source": [
    "text = \"Hello, world. Is this-- a test?\"\n",
    "result = re.split(r'([,.:;?_!\"()\\']|--|\\s)', text)\n",
    "result = [item.strip() for item in result if item.strip()]\n",
    "print(result)"
   ]
  },
  {
   "cell_type": "markdown",
   "metadata": {},
   "source": [
    "After texting, we pre-process our chosen file for embedding."
   ]
  },
  {
   "cell_type": "code",
   "execution_count": 27,
   "metadata": {},
   "outputs": [
    {
     "name": "stdout",
     "output_type": "stream",
     "text": [
      "['I', 'HAD', 'always', 'thought', 'Jack', 'Gisburn', 'rather', 'a', 'cheap', 'genius', '--', 'though', 'a', 'good', 'fellow', 'enough', '--', 'so', 'it', 'was', 'no', 'great', 'surprise', 'to', 'me', 'to', 'hear', 'that', ',', 'in']\n",
      "4690\n"
     ]
    }
   ],
   "source": [
    "preprocessed = re.split(r'([,.:;?_!\"()\\']|--|\\s)', raw_text)\n",
    "preprocessed = [item.strip() for item in preprocessed if item.strip()]\n",
    "print(preprocessed[:30])\n",
    "print(len(preprocessed))"
   ]
  },
  {
   "cell_type": "code",
   "execution_count": 28,
   "metadata": {},
   "outputs": [
    {
     "name": "stdout",
     "output_type": "stream",
     "text": [
      "1130\n"
     ]
    }
   ],
   "source": [
    "all_words = sorted(set(preprocessed))\n",
    "vocab_size = len(all_words)\n",
    "print(vocab_size)"
   ]
  },
  {
   "cell_type": "markdown",
   "metadata": {},
   "source": [
    "We then proceed to assign every token in the vocabulary a unique integer ID."
   ]
  },
  {
   "cell_type": "code",
   "execution_count": 30,
   "metadata": {},
   "outputs": [
    {
     "name": "stdout",
     "output_type": "stream",
     "text": [
      "('!', 0)\n",
      "('\"', 1)\n",
      "(\"'\", 2)\n",
      "('(', 3)\n",
      "(')', 4)\n",
      "(',', 5)\n",
      "('--', 6)\n",
      "('.', 7)\n",
      "(':', 8)\n",
      "(';', 9)\n",
      "('?', 10)\n",
      "('A', 11)\n",
      "('Ah', 12)\n",
      "('Among', 13)\n",
      "('And', 14)\n",
      "('Are', 15)\n",
      "('Arrt', 16)\n",
      "('As', 17)\n",
      "('At', 18)\n",
      "('Be', 19)\n",
      "('Begin', 20)\n",
      "('Burlington', 21)\n",
      "('But', 22)\n",
      "('By', 23)\n",
      "('Carlo', 24)\n",
      "('Chicago', 25)\n",
      "('Claude', 26)\n",
      "('Come', 27)\n",
      "('Croft', 28)\n",
      "('Destroyed', 29)\n",
      "('Devonshire', 30)\n",
      "('Don', 31)\n",
      "('Dubarry', 32)\n",
      "('Emperors', 33)\n",
      "('Florence', 34)\n",
      "('For', 35)\n",
      "('Gallery', 36)\n",
      "('Gideon', 37)\n",
      "('Gisburn', 38)\n",
      "('Gisburns', 39)\n",
      "('Grafton', 40)\n",
      "('Greek', 41)\n",
      "('Grindle', 42)\n",
      "('Grindles', 43)\n",
      "('HAD', 44)\n",
      "('Had', 45)\n",
      "('Hang', 46)\n",
      "('Has', 47)\n",
      "('He', 48)\n",
      "('Her', 49)\n",
      "('Hermia', 50)\n"
     ]
    }
   ],
   "source": [
    "vocab = {token:integer for integer, token in enumerate(all_words)}\n",
    "for i, item in enumerate(vocab.items()):\n",
    "    print(item)\n",
    "    if i >= 50: break"
   ]
  },
  {
   "cell_type": "markdown",
   "metadata": {},
   "source": [
    "Comvining all of these code chunks, we create a tokenizer class, which can both encode and decode data."
   ]
  },
  {
   "cell_type": "code",
   "execution_count": 33,
   "metadata": {},
   "outputs": [],
   "source": [
    "class SimpleTokenizerV1:\n",
    "    def __init__(self, vocab):\n",
    "        self.str_to_int = vocab\n",
    "        self.int_to_str = {i:s for s,i in vocab.items()}\n",
    "    \n",
    "    def encode(self, text):\n",
    "        preprocessed = re.split(r'([,.:;?_!\"()\\']|--|\\s)', text)\n",
    "        preprocessed = [item.strip() for item in preprocessed if item.strip()]\n",
    "        ids = [self.str_to_int[s] for s in preprocessed]\n",
    "        return ids\n",
    "\n",
    "    def decode(self, ids):\n",
    "        text = \" \".join([self.int_to_str[i] for i in ids])\n",
    "        text = re.sub(r'\\s+([,.?!\"()\\'])', r'\\1', text)\n",
    "        return text"
   ]
  },
  {
   "cell_type": "markdown",
   "metadata": {},
   "source": [
    "We then test this on some sample sentnences"
   ]
  },
  {
   "cell_type": "code",
   "execution_count": 34,
   "metadata": {},
   "outputs": [
    {
     "name": "stdout",
     "output_type": "stream",
     "text": [
      "[1, 56, 2, 850, 988, 602, 533, 746, 5, 1126, 596, 5, 1, 67, 7, 38, 851, 1108, 754, 793, 7]\n"
     ]
    }
   ],
   "source": [
    "tokenizer = SimpleTokenizerV1(vocab)\n",
    "text = \"\"\"\"It's the last he painted, you know,\" \n",
    "           Mrs. Gisburn said with pardonable pride.\"\"\"\n",
    "ids = tokenizer.encode(text)\n",
    "print(ids)"
   ]
  },
  {
   "cell_type": "code",
   "execution_count": 35,
   "metadata": {},
   "outputs": [
    {
     "data": {
      "text/plain": [
       "'\" It\\' s the last he painted, you know,\" Mrs. Gisburn said with pardonable pride.'"
      ]
     },
     "execution_count": 35,
     "metadata": {},
     "output_type": "execute_result"
    }
   ],
   "source": [
    "tokenizer.decode(ids)"
   ]
  },
  {
   "cell_type": "code",
   "execution_count": 36,
   "metadata": {},
   "outputs": [
    {
     "data": {
      "text/plain": [
       "'\" It\\' s the last he painted, you know,\" Mrs. Gisburn said with pardonable pride.'"
      ]
     },
     "execution_count": 36,
     "metadata": {},
     "output_type": "execute_result"
    }
   ],
   "source": [
    "tokenizer.decode(tokenizer.encode(text))"
   ]
  },
  {
   "cell_type": "markdown",
   "metadata": {},
   "source": [
    "## Special Context Tokens\n",
    "We add in special context tokens to help the LLM with additional context, an unknown token and a token to signify the end of the text."
   ]
  },
  {
   "cell_type": "code",
   "execution_count": 38,
   "metadata": {},
   "outputs": [
    {
     "data": {
      "text/plain": [
       "1132"
      ]
     },
     "execution_count": 38,
     "metadata": {},
     "output_type": "execute_result"
    }
   ],
   "source": [
    "all_tokens = sorted(list(set(preprocessed)))\n",
    "all_tokens.extend([\"<|endoftext|>\", \"<unk>\"])\n",
    "vocab = {token:integer for integer, token in enumerate(all_tokens)}\n",
    "len(vocab.items())"
   ]
  },
  {
   "cell_type": "code",
   "execution_count": 39,
   "metadata": {},
   "outputs": [],
   "source": [
    "class SimpleTokenizerV2:\n",
    "    def __init__(self, vocab):\n",
    "        self.str_to_int = vocab\n",
    "        self.int_to_str = {i:s for s,i in vocab.items()}\n",
    "    \n",
    "    def encode(self, text):\n",
    "        preprocessed = re.split(r'([,.:;?_!\"()\\']|--|\\s)', text)\n",
    "        preprocessed = [item.strip() for item in preprocessed if item.strip()]\n",
    "        preprocessed = [item if item in self.str_to_int else \"<|unk|>\" for item in preprocessed]\n",
    "        ids = [self.str_to_int[s] for s in preprocessed]\n",
    "        return ids\n",
    "\n",
    "    def decode(self, ids):\n",
    "        text = \" \".join([self.int_to_str[i] for i in ids])\n",
    "        text = re.sub(r'\\s+([,.?!\"()\\'])', r'\\1', text)\n",
    "        return text"
   ]
  },
  {
   "cell_type": "markdown",
   "metadata": {},
   "source": [
    "## BytePair Encoding\n",
    "GPT-2 uses a BPE tokenizer, which breaks down words that aret in the vocabulary into sub-words and individual characters, which allows it to handle out-of-vocabulary words."
   ]
  },
  {
   "cell_type": "code",
   "execution_count": 40,
   "metadata": {},
   "outputs": [],
   "source": [
    "import tiktoken"
   ]
  },
  {
   "cell_type": "code",
   "execution_count": 41,
   "metadata": {},
   "outputs": [],
   "source": [
    "tokenizer = tiktoken.get_encoding(\"gpt2\")"
   ]
  },
  {
   "cell_type": "code",
   "execution_count": 42,
   "metadata": {},
   "outputs": [
    {
     "name": "stdout",
     "output_type": "stream",
     "text": [
      "[15496, 11, 466, 345, 588, 8887, 30, 220, 50256, 554, 262, 4252, 18250, 8812, 2114, 1659, 617, 34680, 27271, 13]\n"
     ]
    }
   ],
   "source": [
    "text = (\n",
    "    \"Hello, do you like tea? <|endoftext|> In the sunlit terraces\"\n",
    "     \"of someunknownPlace.\"\n",
    ")\n",
    "\n",
    "integers = tokenizer.encode(text, allowed_special={\"<|endoftext|>\"})\n",
    "print(integers)"
   ]
  },
  {
   "cell_type": "code",
   "execution_count": 43,
   "metadata": {},
   "outputs": [
    {
     "name": "stdout",
     "output_type": "stream",
     "text": [
      "Hello, do you like tea? <|endoftext|> In the sunlit terracesof someunknownPlace.\n"
     ]
    }
   ],
   "source": [
    "strings = tokenizer.decode(integers)\n",
    "print(strings)"
   ]
  },
  {
   "cell_type": "markdown",
   "metadata": {},
   "source": [
    "## Sliding window\n",
    "We train LLMs to generate one word at a time, so we need to prepare the data accordingly,where the next word in the sequence represents the prediction target. We do this by sampling with a context window."
   ]
  },
  {
   "cell_type": "code",
   "execution_count": 44,
   "metadata": {},
   "outputs": [
    {
     "name": "stdout",
     "output_type": "stream",
     "text": [
      "5145\n"
     ]
    }
   ],
   "source": [
    "with open(\"the-verdict.txt\", \"r\", encoding = \"utf-8\") as f:\n",
    "    raw_text = f.read()\n",
    "enc_text = tokenizer.encode(raw_text)\n",
    "print(len(enc_text))"
   ]
  },
  {
   "cell_type": "code",
   "execution_count": 48,
   "metadata": {},
   "outputs": [
    {
     "name": "stdout",
     "output_type": "stream",
     "text": [
      "x:[290, 4920, 2241, 287]\n",
      "y:     [4920, 2241, 287, 257]\n"
     ]
    }
   ],
   "source": [
    "enc_sample = enc_text[50:]\n",
    "context_size = 4\n",
    "x = enc_sample[:context_size]\n",
    "y = enc_sample[1:context_size+1]\n",
    "print(f\"x:{x}\")\n",
    "print(f\"y:     {y}\")"
   ]
  },
  {
   "cell_type": "code",
   "execution_count": 49,
   "metadata": {},
   "outputs": [
    {
     "name": "stdout",
     "output_type": "stream",
     "text": [
      "[290] ----> 4920\n",
      "[290, 4920] ----> 2241\n",
      "[290, 4920, 2241] ----> 287\n",
      "[290, 4920, 2241, 287] ----> 257\n"
     ]
    }
   ],
   "source": [
    "for i in range(1, context_size+1):\n",
    "    context = enc_sample[:i]\n",
    "    desired = enc_sample[i]\n",
    "    print(context, \"---->\", desired)"
   ]
  },
  {
   "cell_type": "code",
   "execution_count": 50,
   "metadata": {},
   "outputs": [
    {
     "name": "stdout",
     "output_type": "stream",
     "text": [
      " and ---->  established\n",
      " and established ---->  himself\n",
      " and established himself ---->  in\n",
      " and established himself in ---->  a\n"
     ]
    }
   ],
   "source": [
    "for i in range(1, context_size + 1):\n",
    "    context = enc_sample[:i]\n",
    "    desired = enc_sample[i]\n",
    "    print(tokenizer.decode(context), \"---->\", tokenizer.decode([desired]))\n",
    "    "
   ]
  },
  {
   "cell_type": "code",
   "execution_count": 52,
   "metadata": {},
   "outputs": [
    {
     "name": "stdout",
     "output_type": "stream",
     "text": [
      "2.8.0\n"
     ]
    }
   ],
   "source": [
    "import torch\n",
    "print(torch.__version__)"
   ]
  },
  {
   "cell_type": "markdown",
   "metadata": {},
   "source": [
    "We use the torch library and the sliding window concept to extract chunks from the input text dataset. "
   ]
  },
  {
   "cell_type": "code",
   "execution_count": 62,
   "metadata": {},
   "outputs": [],
   "source": [
    "from torch.utils.data import Dataset, DataLoader\n",
    "\n",
    "class GPTDatasetV1(Dataset):\n",
    "    def __init__(self, txt, tokenizer, max_length, stride):\n",
    "        self.input_ids = []\n",
    "        self.target_ids = []\n",
    "\n",
    "        token_ids = tokenizer.encode(txt, allowed_special = {\"<|endoftext|>\"})\n",
    "        assert len(token_ids) > max_length, \"Number of tokens must be at least equal to max_length +1 \"\n",
    "        \n",
    "        #sliding window\n",
    "        for i in range(0, len(token_ids) - max_length, stride):\n",
    "            input_chunk = token_ids[i:i+max_length]\n",
    "            target_chunk = token_ids[i+1: i + max_length +1]\n",
    "            self.input_ids.append(torch.tensor(input_chunk))\n",
    "            self.target_ids.append(torch.tensor(target_chunk))\n",
    "    \n",
    "    def __len__(self):\n",
    "        return len(self.input_ids)\n",
    "    \n",
    "    def __getitem__(self, idx):\n",
    "        return self.input_ids[idx], self.target_ids[idx]"
   ]
  },
  {
   "cell_type": "code",
   "execution_count": 63,
   "metadata": {},
   "outputs": [],
   "source": [
    "def create_dataloader_v1(txt, batch_size = 4, max_length = 256, stride = 128, shuffle = True, drop_last = True, num_workers = 0):\n",
    "    tokenizer = tiktoken.get_encoding(\"gpt2\")\n",
    "    dataset = GPTDatasetV1(txt, tokenizer, max_length, stride)\n",
    "    dataloader = DataLoader(dataset, batch_size=batch_size, shuffle = shuffle, drop_last = drop_last, num_workers=num_workers)\n",
    "    return dataloader"
   ]
  },
  {
   "cell_type": "code",
   "execution_count": 64,
   "metadata": {},
   "outputs": [],
   "source": [
    "with open(\"the-verdict.txt\", \"r\", encoding=\"utf-8\") as f:\n",
    "    raw_text = f.read()"
   ]
  },
  {
   "cell_type": "code",
   "execution_count": 65,
   "metadata": {},
   "outputs": [
    {
     "name": "stdout",
     "output_type": "stream",
     "text": [
      "[tensor([[  40,  367, 2885, 1464]]), tensor([[ 367, 2885, 1464, 1807]])]\n"
     ]
    }
   ],
   "source": [
    "dataloader = create_dataloader_v1( raw_text, batch_size=1, max_length=4, stride=1, shuffle=False)\n",
    "\n",
    "data_iter = iter(dataloader)\n",
    "first_batch = next(data_iter)\n",
    "print(first_batch)"
   ]
  },
  {
   "cell_type": "code",
   "execution_count": 66,
   "metadata": {},
   "outputs": [
    {
     "name": "stdout",
     "output_type": "stream",
     "text": [
      "[tensor([[ 367, 2885, 1464, 1807]]), tensor([[2885, 1464, 1807, 3619]])]\n"
     ]
    }
   ],
   "source": [
    "second_batch = next(data_iter)\n",
    "print(second_batch)"
   ]
  },
  {
   "cell_type": "markdown",
   "metadata": {},
   "source": [
    "We can also create batched outputs. We increase strides to prevent overfitting. "
   ]
  },
  {
   "cell_type": "code",
   "execution_count": 67,
   "metadata": {},
   "outputs": [
    {
     "name": "stdout",
     "output_type": "stream",
     "text": [
      "Inputs: \n",
      " tensor([[   40,   367,  2885,  1464],\n",
      "        [ 1807,  3619,   402,   271],\n",
      "        [10899,  2138,   257,  7026],\n",
      "        [15632,   438,  2016,   257],\n",
      "        [  922,  5891,  1576,   438],\n",
      "        [  568,   340,   373,   645],\n",
      "        [ 1049,  5975,   284,   502],\n",
      "        [  284,  3285,   326,    11]])\n",
      "\n",
      "Targetrs:\n",
      " tensor([[  367,  2885,  1464,  1807],\n",
      "        [ 3619,   402,   271, 10899],\n",
      "        [ 2138,   257,  7026, 15632],\n",
      "        [  438,  2016,   257,   922],\n",
      "        [ 5891,  1576,   438,   568],\n",
      "        [  340,   373,   645,  1049],\n",
      "        [ 5975,   284,   502,   284],\n",
      "        [ 3285,   326,    11,   287]])\n"
     ]
    }
   ],
   "source": [
    "dataloader = create_dataloader_v1(raw_text, batch_size = 8, max_length = 4, stride = 4, shuffle = False)\n",
    "\n",
    "data_iter = iter(dataloader)\n",
    "inputs, targets = next(data_iter)\n",
    "print(\"Inputs: \\n\", inputs)\n",
    "print(\"\\nTargetrs:\\n\", targets)"
   ]
  },
  {
   "cell_type": "markdown",
   "metadata": {},
   "source": [
    "## Creating token embeddings & positional encodings.\n",
    "The data is now almost ready for use - but needs to emebedded in a continuous vector representation using an embedding layer. We also need to add positional endcodings to represent where a token is located in a sequeunce. "
   ]
  },
  {
   "cell_type": "code",
   "execution_count": 68,
   "metadata": {},
   "outputs": [],
   "source": [
    "vocab_size = 50258\n",
    "output_dim = 256\n",
    "\n",
    "token_embedding_layer = torch.nn.Embedding(vocab_size, output_dim)"
   ]
  },
  {
   "cell_type": "code",
   "execution_count": 69,
   "metadata": {},
   "outputs": [],
   "source": [
    "max_length = 4\n",
    "dataloader = create_dataloader_v1(raw_text, batch_size = 8, max_length=max_length, stride = max_length, shuffle = False)\n",
    "data_iter = iter(dataloader)\n",
    "inputs, targets = next(data_iter)"
   ]
  },
  {
   "cell_type": "code",
   "execution_count": 70,
   "metadata": {},
   "outputs": [
    {
     "name": "stdout",
     "output_type": "stream",
     "text": [
      "Token IDs:\n",
      " tensor([[   40,   367,  2885,  1464],\n",
      "        [ 1807,  3619,   402,   271],\n",
      "        [10899,  2138,   257,  7026],\n",
      "        [15632,   438,  2016,   257],\n",
      "        [  922,  5891,  1576,   438],\n",
      "        [  568,   340,   373,   645],\n",
      "        [ 1049,  5975,   284,   502],\n",
      "        [  284,  3285,   326,    11]])\n",
      "\n",
      "Inputs shape:\n",
      " torch.Size([8, 4])\n"
     ]
    }
   ],
   "source": [
    "print(\"Token IDs:\\n\", inputs)\n",
    "print(\"\\nInputs shape:\\n\", inputs.shape)"
   ]
  },
  {
   "cell_type": "code",
   "execution_count": 71,
   "metadata": {},
   "outputs": [
    {
     "name": "stdout",
     "output_type": "stream",
     "text": [
      "torch.Size([8, 4, 256])\n",
      "tensor([[[-4.0923e-01, -1.2252e+00,  5.9993e-01,  ..., -1.1078e-01,\n",
      "          -1.1088e+00,  1.1405e+00],\n",
      "         [ 2.3548e+00, -7.6591e-01, -7.5249e-01,  ...,  1.6080e+00,\n",
      "          -2.8281e-01,  2.5632e+00],\n",
      "         [ 7.5632e-02,  1.3117e-01, -1.4037e+00,  ..., -4.0014e-01,\n",
      "           8.6878e-01,  6.6945e-03],\n",
      "         [-7.1496e-01,  6.1019e-01, -9.9995e-01,  ...,  4.0882e-01,\n",
      "          -2.6238e-01,  2.2496e+00]],\n",
      "\n",
      "        [[ 1.7183e+00,  4.8768e-01,  1.8258e+00,  ...,  7.1086e-01,\n",
      "           4.7555e-01, -8.0010e-01],\n",
      "         [-1.7964e+00, -8.0186e-01, -1.3298e-01,  ..., -1.6305e-01,\n",
      "           1.9982e-01, -7.2233e-01],\n",
      "         [ 1.2059e+00, -5.2811e-03, -1.7531e+00,  ...,  8.1180e-01,\n",
      "          -1.4962e+00,  2.0218e+00],\n",
      "         [-5.5843e-02, -7.6114e-01,  6.4291e-01,  ...,  3.8262e-01,\n",
      "           1.5706e-01,  1.3514e+00]],\n",
      "\n",
      "        [[-1.4949e-01,  2.4897e-01,  3.3719e-01,  ...,  1.3890e+00,\n",
      "           9.8496e-01, -3.4277e-01],\n",
      "         [-9.4834e-01, -1.5254e-01, -1.4035e+00,  ..., -2.6259e+00,\n",
      "          -6.1396e-01, -1.5068e-01],\n",
      "         [-2.1490e-01,  4.5855e-01, -7.3007e-02,  ...,  1.5674e+00,\n",
      "          -2.0376e-01,  4.9460e-01],\n",
      "         [ 2.2953e-01,  3.5047e-01,  3.3171e-01,  ..., -1.7024e+00,\n",
      "           4.7679e-01, -1.7908e+00]],\n",
      "\n",
      "        ...,\n",
      "\n",
      "        [[ 2.2240e+00,  3.3135e-01, -1.0097e-01,  ...,  1.0758e+00,\n",
      "           2.3113e-01,  3.1649e-01],\n",
      "         [-5.9017e-01, -4.9519e-01, -7.3047e-01,  ...,  1.5598e-01,\n",
      "           1.7942e-01,  4.3417e-01],\n",
      "         [ 1.3494e+00, -5.9311e-01, -5.0106e-01,  ...,  1.0833e+00,\n",
      "          -4.6342e-01, -9.9529e-01],\n",
      "         [ 4.8856e-01, -9.5838e-01,  5.2816e-01,  ...,  4.8124e-01,\n",
      "           1.0445e+00,  5.1959e-01]],\n",
      "\n",
      "        [[ 9.1492e-01, -1.0507e+00,  3.2508e-01,  ..., -1.2687e+00,\n",
      "           2.5837e-03,  1.3121e-01],\n",
      "         [-7.0573e-01, -2.7051e+00,  1.2385e+00,  ...,  1.8730e+00,\n",
      "          -2.3212e+00, -1.2359e+00],\n",
      "         [-2.0533e+00, -5.9387e-01, -4.6746e-01,  ..., -2.0862e-01,\n",
      "          -1.8225e-01,  1.6848e-01],\n",
      "         [-9.1142e-02, -1.2394e+00, -1.6594e-01,  ...,  6.0145e-01,\n",
      "           8.7161e-01, -6.9723e-02]],\n",
      "\n",
      "        [[-2.0533e+00, -5.9387e-01, -4.6746e-01,  ..., -2.0862e-01,\n",
      "          -1.8225e-01,  1.6848e-01],\n",
      "         [ 6.1403e-01, -1.1732e+00,  1.5390e+00,  ..., -4.6568e-01,\n",
      "          -2.1812e-02,  1.0369e+00],\n",
      "         [ 7.9785e-01, -3.1404e-01,  2.5533e-02,  ...,  1.6488e-01,\n",
      "          -5.8013e-01,  1.4097e+00],\n",
      "         [ 4.0230e-02,  5.3940e-01,  3.1713e-01,  ...,  4.1263e-01,\n",
      "           7.7920e-01, -1.2167e+00]]], grad_fn=<EmbeddingBackward0>)\n"
     ]
    }
   ],
   "source": [
    "token_embeddings = token_embedding_layer(inputs)\n",
    "print(token_embeddings.shape)\n",
    "print(token_embeddings)"
   ]
  },
  {
   "cell_type": "code",
   "execution_count": 72,
   "metadata": {},
   "outputs": [
    {
     "name": "stdout",
     "output_type": "stream",
     "text": [
      "Parameter containing:\n",
      "tensor([[ 9.2901e-01,  2.4738e-01, -3.5620e-01,  ..., -2.7161e-01,\n",
      "         -1.4775e+00,  2.2138e+00],\n",
      "        [ 8.2973e-02, -3.8073e-01, -1.2307e-01,  ...,  1.6274e+00,\n",
      "         -5.5543e-02,  1.5420e+00],\n",
      "        [-1.0777e+00,  1.1805e+00, -2.1549e-03,  ..., -1.2508e+00,\n",
      "         -1.8156e+00,  2.5404e+00],\n",
      "        [-7.1613e-01, -1.6032e+00,  6.6653e-01,  ...,  2.8427e-01,\n",
      "          6.6459e-01, -1.2241e-01]], requires_grad=True)\n"
     ]
    }
   ],
   "source": [
    "context_length = max_length\n",
    "pos_embedding_layer = torch.nn.Embedding(context_length, output_dim)\n",
    "print(pos_embedding_layer.weight)"
   ]
  },
  {
   "cell_type": "code",
   "execution_count": 76,
   "metadata": {},
   "outputs": [
    {
     "name": "stdout",
     "output_type": "stream",
     "text": [
      "torch.Size([4, 256])\n",
      "tensor([[ 9.2901e-01,  2.4738e-01, -3.5620e-01,  ..., -2.7161e-01,\n",
      "         -1.4775e+00,  2.2138e+00],\n",
      "        [ 8.2973e-02, -3.8073e-01, -1.2307e-01,  ...,  1.6274e+00,\n",
      "         -5.5543e-02,  1.5420e+00],\n",
      "        [-1.0777e+00,  1.1805e+00, -2.1549e-03,  ..., -1.2508e+00,\n",
      "         -1.8156e+00,  2.5404e+00],\n",
      "        [-7.1613e-01, -1.6032e+00,  6.6653e-01,  ...,  2.8427e-01,\n",
      "          6.6459e-01, -1.2241e-01]], grad_fn=<EmbeddingBackward0>)\n"
     ]
    }
   ],
   "source": [
    "pos_embeddings = pos_embedding_layer(torch.arange(max_length))\n",
    "print(pos_embeddings.shape)\n",
    "print(pos_embeddings)"
   ]
  },
  {
   "cell_type": "code",
   "execution_count": 77,
   "metadata": {},
   "outputs": [
    {
     "name": "stdout",
     "output_type": "stream",
     "text": [
      "torch.Size([8, 4, 256])\n",
      "tensor([[[ 0.5198, -0.9778,  0.2437,  ..., -0.3824, -2.5863,  3.3543],\n",
      "         [ 2.4377, -1.1466, -0.8756,  ...,  3.2354, -0.3384,  4.1051],\n",
      "         [-1.0020,  1.3116, -1.4058,  ..., -1.6509, -0.9468,  2.5470],\n",
      "         [-1.4311, -0.9930, -0.3334,  ...,  0.6931,  0.4022,  2.1272]],\n",
      "\n",
      "        [[ 2.6473,  0.7351,  1.4696,  ...,  0.4392, -1.0019,  1.4137],\n",
      "         [-1.7134, -1.1826, -0.2561,  ...,  1.4644,  0.1443,  0.8196],\n",
      "         [ 0.1282,  1.1752, -1.7552,  ..., -0.4390, -3.3119,  4.5621],\n",
      "         [-0.7720, -2.3643,  1.3094,  ...,  0.6669,  0.8216,  1.2290]],\n",
      "\n",
      "        [[ 0.7795,  0.4964, -0.0190,  ...,  1.1174, -0.4925,  1.8710],\n",
      "         [-0.8654, -0.5333, -1.5266,  ..., -0.9984, -0.6695,  1.3913],\n",
      "         [-1.2925,  1.6390, -0.0752,  ...,  0.3167, -2.0194,  3.0350],\n",
      "         [-0.4866, -1.2527,  0.9982,  ..., -1.4181,  1.1414, -1.9132]],\n",
      "\n",
      "        ...,\n",
      "\n",
      "        [[ 3.1530,  0.5787, -0.4572,  ...,  0.8042, -1.2463,  2.5303],\n",
      "         [-0.5072, -0.8759, -0.8535,  ...,  1.7834,  0.1239,  1.9761],\n",
      "         [ 0.2717,  0.5874, -0.5032,  ..., -0.1675, -2.2790,  1.5451],\n",
      "         [-0.2276, -2.5616,  1.1947,  ...,  0.7655,  1.7091,  0.3972]],\n",
      "\n",
      "        [[ 1.8439, -0.8033, -0.0311,  ..., -1.5403, -1.4749,  2.3450],\n",
      "         [-0.6228, -3.0858,  1.1155,  ...,  3.5004, -2.3768,  0.3061],\n",
      "         [-3.1309,  0.5866, -0.4696,  ..., -1.4594, -1.9979,  2.7088],\n",
      "         [-0.8073, -2.8426,  0.5006,  ...,  0.8857,  1.5362, -0.1921]],\n",
      "\n",
      "        [[-1.1243, -0.3465, -0.8237,  ..., -0.4802, -1.6597,  2.3823],\n",
      "         [ 0.6970, -1.5539,  1.4159,  ...,  1.1617, -0.0774,  2.5789],\n",
      "         [-0.2798,  0.8664,  0.0234,  ..., -1.0859, -2.3958,  3.9501],\n",
      "         [-0.6759, -1.0638,  0.9837,  ...,  0.6969,  1.4438, -1.3391]]],\n",
      "       grad_fn=<AddBackward0>)\n"
     ]
    }
   ],
   "source": [
    "input_embeddings = token_embeddings + pos_embeddings\n",
    "print(input_embeddings.shape)\n",
    "print(input_embeddings)"
   ]
  }
 ],
 "metadata": {
  "kernelspec": {
   "display_name": "Python 3",
   "language": "python",
   "name": "python3"
  },
  "language_info": {
   "codemirror_mode": {
    "name": "ipython",
    "version": 3
   },
   "file_extension": ".py",
   "mimetype": "text/x-python",
   "name": "python",
   "nbconvert_exporter": "python",
   "pygments_lexer": "ipython3",
   "version": "3.12.2"
  }
 },
 "nbformat": 4,
 "nbformat_minor": 2
}
