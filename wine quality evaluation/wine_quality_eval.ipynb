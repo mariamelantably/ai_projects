{
 "cells": [
  {
   "cell_type": "markdown",
   "metadata": {},
   "source": [
    "# Wine Quality\n",
    "This code aims to evaluate wine quality based on multiple different factors, using classification, regression & neural networks.\n",
    "\n",
    "## 1 - Library Imports"
   ]
  },
  {
   "cell_type": "code",
   "execution_count": 11,
   "metadata": {},
   "outputs": [],
   "source": [
    "import pandas as pd #used for dataframe\n",
    "\n",
    "from sklearn.preprocessing import PolynomialFeatures #polynomial regression\n",
    "from sklearn.model_selection import train_test_split\n",
    "from sklearn.multiclass import OneVsRestClassifier #multi-classification\n",
    "from sklearn.metrics import mean_squared_error\n",
    "\n",
    "#These are all the models I have used in the code\n",
    "from sklearn.svm import SVC\n",
    "from sklearn.linear_model import LogisticRegression, LinearRegression, Ridge, Lasso, ElasticNet\n",
    "from sklearn.ensemble import RandomForestClassifier, AdaBoostClassifier, GradientBoostingClassifier\n",
    "from sklearn.neural_network import MLPClassifier, MLPRegressor\n",
    "\n",
    "\n",
    "from matplotlib.pyplot import bar \n"
   ]
  },
  {
   "cell_type": "markdown",
   "metadata": {},
   "source": [
    "## 2 - Data Preprocessing\n",
    "The first step of preprocessing involved importing the dataset."
   ]
  },
  {
   "cell_type": "code",
   "execution_count": 3,
   "metadata": {},
   "outputs": [
    {
     "data": {
      "text/html": [
       "<div>\n",
       "<style scoped>\n",
       "    .dataframe tbody tr th:only-of-type {\n",
       "        vertical-align: middle;\n",
       "    }\n",
       "\n",
       "    .dataframe tbody tr th {\n",
       "        vertical-align: top;\n",
       "    }\n",
       "\n",
       "    .dataframe thead th {\n",
       "        text-align: right;\n",
       "    }\n",
       "</style>\n",
       "<table border=\"1\" class=\"dataframe\">\n",
       "  <thead>\n",
       "    <tr style=\"text-align: right;\">\n",
       "      <th></th>\n",
       "      <th>type</th>\n",
       "      <th>fixed acidity</th>\n",
       "      <th>volatile acidity</th>\n",
       "      <th>citric acid</th>\n",
       "      <th>residual sugar</th>\n",
       "      <th>chlorides</th>\n",
       "      <th>free sulfur dioxide</th>\n",
       "      <th>total sulfur dioxide</th>\n",
       "      <th>density</th>\n",
       "      <th>pH</th>\n",
       "      <th>sulphates</th>\n",
       "      <th>alcohol</th>\n",
       "      <th>quality</th>\n",
       "    </tr>\n",
       "  </thead>\n",
       "  <tbody>\n",
       "    <tr>\n",
       "      <th>0</th>\n",
       "      <td>white</td>\n",
       "      <td>7.0</td>\n",
       "      <td>0.27</td>\n",
       "      <td>0.36</td>\n",
       "      <td>20.7</td>\n",
       "      <td>0.045</td>\n",
       "      <td>45.0</td>\n",
       "      <td>170.0</td>\n",
       "      <td>1.0010</td>\n",
       "      <td>3.00</td>\n",
       "      <td>0.45</td>\n",
       "      <td>8.8</td>\n",
       "      <td>6</td>\n",
       "    </tr>\n",
       "    <tr>\n",
       "      <th>1</th>\n",
       "      <td>white</td>\n",
       "      <td>6.3</td>\n",
       "      <td>0.30</td>\n",
       "      <td>0.34</td>\n",
       "      <td>1.6</td>\n",
       "      <td>0.049</td>\n",
       "      <td>14.0</td>\n",
       "      <td>132.0</td>\n",
       "      <td>0.9940</td>\n",
       "      <td>3.30</td>\n",
       "      <td>0.49</td>\n",
       "      <td>9.5</td>\n",
       "      <td>6</td>\n",
       "    </tr>\n",
       "    <tr>\n",
       "      <th>2</th>\n",
       "      <td>white</td>\n",
       "      <td>8.1</td>\n",
       "      <td>0.28</td>\n",
       "      <td>0.40</td>\n",
       "      <td>6.9</td>\n",
       "      <td>0.050</td>\n",
       "      <td>30.0</td>\n",
       "      <td>97.0</td>\n",
       "      <td>0.9951</td>\n",
       "      <td>3.26</td>\n",
       "      <td>0.44</td>\n",
       "      <td>10.1</td>\n",
       "      <td>6</td>\n",
       "    </tr>\n",
       "    <tr>\n",
       "      <th>3</th>\n",
       "      <td>white</td>\n",
       "      <td>7.2</td>\n",
       "      <td>0.23</td>\n",
       "      <td>0.32</td>\n",
       "      <td>8.5</td>\n",
       "      <td>0.058</td>\n",
       "      <td>47.0</td>\n",
       "      <td>186.0</td>\n",
       "      <td>0.9956</td>\n",
       "      <td>3.19</td>\n",
       "      <td>0.40</td>\n",
       "      <td>9.9</td>\n",
       "      <td>6</td>\n",
       "    </tr>\n",
       "    <tr>\n",
       "      <th>4</th>\n",
       "      <td>white</td>\n",
       "      <td>7.2</td>\n",
       "      <td>0.23</td>\n",
       "      <td>0.32</td>\n",
       "      <td>8.5</td>\n",
       "      <td>0.058</td>\n",
       "      <td>47.0</td>\n",
       "      <td>186.0</td>\n",
       "      <td>0.9956</td>\n",
       "      <td>3.19</td>\n",
       "      <td>0.40</td>\n",
       "      <td>9.9</td>\n",
       "      <td>6</td>\n",
       "    </tr>\n",
       "  </tbody>\n",
       "</table>\n",
       "</div>"
      ],
      "text/plain": [
       "    type  fixed acidity  volatile acidity  citric acid  residual sugar  \\\n",
       "0  white            7.0              0.27         0.36            20.7   \n",
       "1  white            6.3              0.30         0.34             1.6   \n",
       "2  white            8.1              0.28         0.40             6.9   \n",
       "3  white            7.2              0.23         0.32             8.5   \n",
       "4  white            7.2              0.23         0.32             8.5   \n",
       "\n",
       "   chlorides  free sulfur dioxide  total sulfur dioxide  density    pH  \\\n",
       "0      0.045                 45.0                 170.0   1.0010  3.00   \n",
       "1      0.049                 14.0                 132.0   0.9940  3.30   \n",
       "2      0.050                 30.0                  97.0   0.9951  3.26   \n",
       "3      0.058                 47.0                 186.0   0.9956  3.19   \n",
       "4      0.058                 47.0                 186.0   0.9956  3.19   \n",
       "\n",
       "   sulphates  alcohol  quality  \n",
       "0       0.45      8.8        6  \n",
       "1       0.49      9.5        6  \n",
       "2       0.44     10.1        6  \n",
       "3       0.40      9.9        6  \n",
       "4       0.40      9.9        6  "
      ]
     },
     "execution_count": 3,
     "metadata": {},
     "output_type": "execute_result"
    }
   ],
   "source": [
    "df = pd.read_csv(\"/Users/mariamelantably/Desktop/programs/vais internship/winequalityN.csv\")\n",
    "df.head()"
   ]
  },
  {
   "cell_type": "markdown",
   "metadata": {},
   "source": [
    "I then converted the wine-type data into a numerical quantity - assigning 0 to white wines and 1 to red wines"
   ]
  },
  {
   "cell_type": "code",
   "execution_count": 4,
   "metadata": {},
   "outputs": [],
   "source": [
    "#encode the wine type\n",
    "for i in range(df.shape[0]):\n",
    "    if df[\"type\"][i] == \"white\":\n",
    "        df.loc[i, \"type\"] = 0\n",
    "    else:\n",
    "        df.loc[i, \"type\"] = 1"
   ]
  },
  {
   "cell_type": "markdown",
   "metadata": {},
   "source": [
    "Following this, the rest of the fields are then normalised to fit them between 0 and 1, and any NaN values are replaced with 0s in the dataset."
   ]
  },
  {
   "cell_type": "code",
   "execution_count": 5,
   "metadata": {},
   "outputs": [],
   "source": [
    "categories_to_normalise = [\"fixed acidity\", \"volatile acidity\", \"citric acid\", \"residual sugar\", \"chlorides\", \"free sulfur dioxide\", \"total sulfur dioxide\", \"density\", \"pH\", \"sulphates\", \"alcohol\"]\n",
    "df[categories_to_normalise] = df[categories_to_normalise].apply(lambda x: (x - x.min())/(x.max() - x.min()))\n",
    "df.fillna(0, inplace= True)"
   ]
  },
  {
   "cell_type": "markdown",
   "metadata": {},
   "source": [
    "Then, the dataset is divided into the inputs and target variables, and the set is split in to training and testing data. I decided to use a 4:1 train-test split to give the model sufficient data to learn, without overfitting the model.\n",
    "\n",
    "For classificiation, I used quality as the target variable. For regression, I chose density as the target variable."
   ]
  },
  {
   "cell_type": "code",
   "execution_count": 7,
   "metadata": {},
   "outputs": [
    {
     "data": {
      "text/html": [
       "<div>\n",
       "<style scoped>\n",
       "    .dataframe tbody tr th:only-of-type {\n",
       "        vertical-align: middle;\n",
       "    }\n",
       "\n",
       "    .dataframe tbody tr th {\n",
       "        vertical-align: top;\n",
       "    }\n",
       "\n",
       "    .dataframe thead th {\n",
       "        text-align: right;\n",
       "    }\n",
       "</style>\n",
       "<table border=\"1\" class=\"dataframe\">\n",
       "  <thead>\n",
       "    <tr style=\"text-align: right;\">\n",
       "      <th></th>\n",
       "      <th>type</th>\n",
       "      <th>fixed acidity</th>\n",
       "      <th>volatile acidity</th>\n",
       "      <th>citric acid</th>\n",
       "      <th>residual sugar</th>\n",
       "      <th>chlorides</th>\n",
       "      <th>free sulfur dioxide</th>\n",
       "      <th>total sulfur dioxide</th>\n",
       "      <th>pH</th>\n",
       "      <th>sulphates</th>\n",
       "      <th>alcohol</th>\n",
       "      <th>quality</th>\n",
       "    </tr>\n",
       "  </thead>\n",
       "  <tbody>\n",
       "    <tr>\n",
       "      <th>0</th>\n",
       "      <td>0</td>\n",
       "      <td>0.264463</td>\n",
       "      <td>0.126667</td>\n",
       "      <td>0.216867</td>\n",
       "      <td>0.308282</td>\n",
       "      <td>0.059801</td>\n",
       "      <td>0.152778</td>\n",
       "      <td>0.377880</td>\n",
       "      <td>0.217054</td>\n",
       "      <td>0.129213</td>\n",
       "      <td>0.115942</td>\n",
       "      <td>6</td>\n",
       "    </tr>\n",
       "    <tr>\n",
       "      <th>1</th>\n",
       "      <td>0</td>\n",
       "      <td>0.206612</td>\n",
       "      <td>0.146667</td>\n",
       "      <td>0.204819</td>\n",
       "      <td>0.015337</td>\n",
       "      <td>0.066445</td>\n",
       "      <td>0.045139</td>\n",
       "      <td>0.290323</td>\n",
       "      <td>0.449612</td>\n",
       "      <td>0.151685</td>\n",
       "      <td>0.217391</td>\n",
       "      <td>6</td>\n",
       "    </tr>\n",
       "    <tr>\n",
       "      <th>2</th>\n",
       "      <td>0</td>\n",
       "      <td>0.355372</td>\n",
       "      <td>0.133333</td>\n",
       "      <td>0.240964</td>\n",
       "      <td>0.096626</td>\n",
       "      <td>0.068106</td>\n",
       "      <td>0.100694</td>\n",
       "      <td>0.209677</td>\n",
       "      <td>0.418605</td>\n",
       "      <td>0.123596</td>\n",
       "      <td>0.304348</td>\n",
       "      <td>6</td>\n",
       "    </tr>\n",
       "    <tr>\n",
       "      <th>3</th>\n",
       "      <td>0</td>\n",
       "      <td>0.280992</td>\n",
       "      <td>0.100000</td>\n",
       "      <td>0.192771</td>\n",
       "      <td>0.121166</td>\n",
       "      <td>0.081395</td>\n",
       "      <td>0.159722</td>\n",
       "      <td>0.414747</td>\n",
       "      <td>0.364341</td>\n",
       "      <td>0.101124</td>\n",
       "      <td>0.275362</td>\n",
       "      <td>6</td>\n",
       "    </tr>\n",
       "    <tr>\n",
       "      <th>4</th>\n",
       "      <td>0</td>\n",
       "      <td>0.280992</td>\n",
       "      <td>0.100000</td>\n",
       "      <td>0.192771</td>\n",
       "      <td>0.121166</td>\n",
       "      <td>0.081395</td>\n",
       "      <td>0.159722</td>\n",
       "      <td>0.414747</td>\n",
       "      <td>0.364341</td>\n",
       "      <td>0.101124</td>\n",
       "      <td>0.275362</td>\n",
       "      <td>6</td>\n",
       "    </tr>\n",
       "    <tr>\n",
       "      <th>...</th>\n",
       "      <td>...</td>\n",
       "      <td>...</td>\n",
       "      <td>...</td>\n",
       "      <td>...</td>\n",
       "      <td>...</td>\n",
       "      <td>...</td>\n",
       "      <td>...</td>\n",
       "      <td>...</td>\n",
       "      <td>...</td>\n",
       "      <td>...</td>\n",
       "      <td>...</td>\n",
       "      <td>...</td>\n",
       "    </tr>\n",
       "    <tr>\n",
       "      <th>6492</th>\n",
       "      <td>1</td>\n",
       "      <td>0.198347</td>\n",
       "      <td>0.346667</td>\n",
       "      <td>0.048193</td>\n",
       "      <td>0.021472</td>\n",
       "      <td>0.134551</td>\n",
       "      <td>0.107639</td>\n",
       "      <td>0.087558</td>\n",
       "      <td>0.565891</td>\n",
       "      <td>0.202247</td>\n",
       "      <td>0.362319</td>\n",
       "      <td>5</td>\n",
       "    </tr>\n",
       "    <tr>\n",
       "      <th>6493</th>\n",
       "      <td>1</td>\n",
       "      <td>0.173554</td>\n",
       "      <td>0.313333</td>\n",
       "      <td>0.060241</td>\n",
       "      <td>0.024540</td>\n",
       "      <td>0.088040</td>\n",
       "      <td>0.131944</td>\n",
       "      <td>0.103687</td>\n",
       "      <td>0.620155</td>\n",
       "      <td>0.000000</td>\n",
       "      <td>0.463768</td>\n",
       "      <td>6</td>\n",
       "    </tr>\n",
       "    <tr>\n",
       "      <th>6494</th>\n",
       "      <td>1</td>\n",
       "      <td>0.206612</td>\n",
       "      <td>0.286667</td>\n",
       "      <td>0.078313</td>\n",
       "      <td>0.026074</td>\n",
       "      <td>0.111296</td>\n",
       "      <td>0.097222</td>\n",
       "      <td>0.078341</td>\n",
       "      <td>0.542636</td>\n",
       "      <td>0.297753</td>\n",
       "      <td>0.434783</td>\n",
       "      <td>6</td>\n",
       "    </tr>\n",
       "    <tr>\n",
       "      <th>6495</th>\n",
       "      <td>1</td>\n",
       "      <td>0.173554</td>\n",
       "      <td>0.376667</td>\n",
       "      <td>0.072289</td>\n",
       "      <td>0.021472</td>\n",
       "      <td>0.109635</td>\n",
       "      <td>0.107639</td>\n",
       "      <td>0.087558</td>\n",
       "      <td>0.658915</td>\n",
       "      <td>0.275281</td>\n",
       "      <td>0.318841</td>\n",
       "      <td>5</td>\n",
       "    </tr>\n",
       "    <tr>\n",
       "      <th>6496</th>\n",
       "      <td>1</td>\n",
       "      <td>0.181818</td>\n",
       "      <td>0.153333</td>\n",
       "      <td>0.283133</td>\n",
       "      <td>0.046012</td>\n",
       "      <td>0.096346</td>\n",
       "      <td>0.059028</td>\n",
       "      <td>0.082949</td>\n",
       "      <td>0.519380</td>\n",
       "      <td>0.247191</td>\n",
       "      <td>0.434783</td>\n",
       "      <td>6</td>\n",
       "    </tr>\n",
       "  </tbody>\n",
       "</table>\n",
       "<p>6497 rows × 12 columns</p>\n",
       "</div>"
      ],
      "text/plain": [
       "     type  fixed acidity  volatile acidity  citric acid  residual sugar  \\\n",
       "0       0       0.264463          0.126667     0.216867        0.308282   \n",
       "1       0       0.206612          0.146667     0.204819        0.015337   \n",
       "2       0       0.355372          0.133333     0.240964        0.096626   \n",
       "3       0       0.280992          0.100000     0.192771        0.121166   \n",
       "4       0       0.280992          0.100000     0.192771        0.121166   \n",
       "...   ...            ...               ...          ...             ...   \n",
       "6492    1       0.198347          0.346667     0.048193        0.021472   \n",
       "6493    1       0.173554          0.313333     0.060241        0.024540   \n",
       "6494    1       0.206612          0.286667     0.078313        0.026074   \n",
       "6495    1       0.173554          0.376667     0.072289        0.021472   \n",
       "6496    1       0.181818          0.153333     0.283133        0.046012   \n",
       "\n",
       "      chlorides  free sulfur dioxide  total sulfur dioxide        pH  \\\n",
       "0      0.059801             0.152778              0.377880  0.217054   \n",
       "1      0.066445             0.045139              0.290323  0.449612   \n",
       "2      0.068106             0.100694              0.209677  0.418605   \n",
       "3      0.081395             0.159722              0.414747  0.364341   \n",
       "4      0.081395             0.159722              0.414747  0.364341   \n",
       "...         ...                  ...                   ...       ...   \n",
       "6492   0.134551             0.107639              0.087558  0.565891   \n",
       "6493   0.088040             0.131944              0.103687  0.620155   \n",
       "6494   0.111296             0.097222              0.078341  0.542636   \n",
       "6495   0.109635             0.107639              0.087558  0.658915   \n",
       "6496   0.096346             0.059028              0.082949  0.519380   \n",
       "\n",
       "      sulphates   alcohol  quality  \n",
       "0      0.129213  0.115942        6  \n",
       "1      0.151685  0.217391        6  \n",
       "2      0.123596  0.304348        6  \n",
       "3      0.101124  0.275362        6  \n",
       "4      0.101124  0.275362        6  \n",
       "...         ...       ...      ...  \n",
       "6492   0.202247  0.362319        5  \n",
       "6493   0.000000  0.463768        6  \n",
       "6494   0.297753  0.434783        6  \n",
       "6495   0.275281  0.318841        5  \n",
       "6496   0.247191  0.434783        6  \n",
       "\n",
       "[6497 rows x 12 columns]"
      ]
     },
     "execution_count": 7,
     "metadata": {},
     "output_type": "execute_result"
    }
   ],
   "source": [
    "y_c = df[\"quality\"]\n",
    "X_c = df.drop([\"quality\"], axis = 1)\n",
    "X_train_c, X_test_c, y_train_c, y_test_c = train_test_split(X_c, y_c, test_size=0.20)\n",
    "\n",
    "y_r = df[\"density\"]\n",
    "X_r = df.drop([\"density\"], axis = 1)\n",
    "X_train_r, X_test_r, y_train_r, y_test_r = train_test_split(X_r, y_r, test_size=0.20)"
   ]
  },
  {
   "cell_type": "markdown",
   "metadata": {},
   "source": [
    "## 3 - Classification\n",
    "For this dataset, I decided to use mutli-classification, specifically a One-vs-All classifier, to decide which quality each wine would be assigned to. I used many different classifiers for this, including:\n",
    "- Support Vector Machines\n",
    "- Logistic Regression\n",
    "- Random Forest Classifier\n",
    "- AdaBoost\n",
    "- Gradient Boosting"
   ]
  },
  {
   "cell_type": "code",
   "execution_count": 9,
   "metadata": {},
   "outputs": [
    {
     "name": "stderr",
     "output_type": "stream",
     "text": [
      "/Library/Frameworks/Python.framework/Versions/3.12/lib/python3.12/site-packages/sklearn/ensemble/_weight_boosting.py:527: FutureWarning: The SAMME.R algorithm (the default) is deprecated and will be removed in 1.6. Use the SAMME algorithm to circumvent this warning.\n",
      "  warnings.warn(\n",
      "/Library/Frameworks/Python.framework/Versions/3.12/lib/python3.12/site-packages/sklearn/ensemble/_weight_boosting.py:527: FutureWarning: The SAMME.R algorithm (the default) is deprecated and will be removed in 1.6. Use the SAMME algorithm to circumvent this warning.\n",
      "  warnings.warn(\n",
      "/Library/Frameworks/Python.framework/Versions/3.12/lib/python3.12/site-packages/sklearn/ensemble/_weight_boosting.py:527: FutureWarning: The SAMME.R algorithm (the default) is deprecated and will be removed in 1.6. Use the SAMME algorithm to circumvent this warning.\n",
      "  warnings.warn(\n",
      "/Library/Frameworks/Python.framework/Versions/3.12/lib/python3.12/site-packages/sklearn/ensemble/_weight_boosting.py:527: FutureWarning: The SAMME.R algorithm (the default) is deprecated and will be removed in 1.6. Use the SAMME algorithm to circumvent this warning.\n",
      "  warnings.warn(\n",
      "/Library/Frameworks/Python.framework/Versions/3.12/lib/python3.12/site-packages/sklearn/ensemble/_weight_boosting.py:527: FutureWarning: The SAMME.R algorithm (the default) is deprecated and will be removed in 1.6. Use the SAMME algorithm to circumvent this warning.\n",
      "  warnings.warn(\n",
      "/Library/Frameworks/Python.framework/Versions/3.12/lib/python3.12/site-packages/sklearn/ensemble/_weight_boosting.py:527: FutureWarning: The SAMME.R algorithm (the default) is deprecated and will be removed in 1.6. Use the SAMME algorithm to circumvent this warning.\n",
      "  warnings.warn(\n",
      "/Library/Frameworks/Python.framework/Versions/3.12/lib/python3.12/site-packages/sklearn/ensemble/_weight_boosting.py:527: FutureWarning: The SAMME.R algorithm (the default) is deprecated and will be removed in 1.6. Use the SAMME algorithm to circumvent this warning.\n",
      "  warnings.warn(\n"
     ]
    }
   ],
   "source": [
    "#OneVsRestClassifier\n",
    "clf_svm = OneVsRestClassifier(SVC()).fit(X_train_c, y_train_c)\n",
    "clf_logreg = OneVsRestClassifier(LogisticRegression()).fit(X_train_c, y_train_c)\n",
    "clf_rf = OneVsRestClassifier(RandomForestClassifier()).fit(X_train_c, y_train_c)\n",
    "clf_ada = OneVsRestClassifier(AdaBoostClassifier()).fit(X_train_c, y_train_c)\n",
    "clf_gb = OneVsRestClassifier(GradientBoostingClassifier()).fit(X_train_c, y_train_c)\n"
   ]
  },
  {
   "cell_type": "markdown",
   "metadata": {},
   "source": [
    "For each model, I then calculated the precision of the predictions on the test data - the total number the model predicted correctly divided by the number of predictions. This is then displayed in the below bar graph, which showed that the random forest performed the best out of all the classifiers in the following model, achieving a precision of nearly 70%."
   ]
  },
  {
   "cell_type": "code",
   "execution_count": 12,
   "metadata": {},
   "outputs": [
    {
     "data": {
      "text/plain": [
       "<BarContainer object of 5 artists>"
      ]
     },
     "execution_count": 12,
     "metadata": {},
     "output_type": "execute_result"
    },
    {
     "data": {
      "image/png": "[encoded data removed]",
      "text/plain": [
       "<Figure size 640x480 with 1 Axes>"
      ]
     },
     "metadata": {},
     "output_type": "display_data"
    }
   ],
   "source": [
    "clfs = [clf_ada, clf_gb, clf_logreg, clf_rf, clf_svm]\n",
    "percents = []\n",
    "num = len(y_test_c)\n",
    "for c in clfs:\n",
    "    y_pred = c.predict(X_test_c)\n",
    "    corr = 0\n",
    "    for i in range(num):\n",
    "        if y_test_c.to_numpy()[i] == y_pred[i]:\n",
    "            corr += 1\n",
    "    percents.append(100*(corr/num))\n",
    "\n",
    "bar(['Ada', 'GradientBoost', 'Logistic', 'Random Forest', 'SVM'], percents, label = \"Precision of Classification Models\")\n",
    "\n"
   ]
  },
  {
   "cell_type": "markdown",
   "metadata": {},
   "source": [
    "## 4 - Linear Regression\n",
    "I also decided to test whether or not regression models will be accurate at predicting wine quality. To test their ability accurately, all predictions are rounded to the nearest integer then compared to the original quality values. The following models were tested:\n",
    "- Linear Regression\n",
    "- Ridge Regression\n",
    "- Elastic Net Regression\n",
    "- Lasso Regression"
   ]
  },
  {
   "cell_type": "code",
   "execution_count": 28,
   "metadata": {},
   "outputs": [],
   "source": [
    "lin_reg = LinearRegression().fit(X_train_r, y_train_r)\n",
    "ridge = Ridge(alpha = 1.0).fit(X_train_r,y_train_r)\n",
    "elast = ElasticNet().fit(X_train_r, y_train_r)\n",
    "lasso = Lasso().fit(X_train_r, y_train_r)\n",
    "regressors = [lin_reg, ridge, elast, lasso]"
   ]
  },
  {
   "cell_type": "markdown",
   "metadata": {},
   "source": [
    "For each model, the precision was measured and then plotted on the bar charts. Linear & Ridge Regression performed the best, with precisions over 50%, but did not compare to random forest classification."
   ]
  },
  {
   "cell_type": "code",
   "execution_count": 33,
   "metadata": {},
   "outputs": [
    {
     "data": {
      "text/plain": [
       "<BarContainer object of 4 artists>"
      ]
     },
     "execution_count": 33,
     "metadata": {},
     "output_type": "execute_result"
    },
    {
     "data": {
      "image/png": "[encoded data removed]",
      "text/plain": [
       "<Figure size 640x480 with 1 Axes>"
      ]
     },
     "metadata": {},
     "output_type": "display_data"
    }
   ],
   "source": [
    "percents_regr = []\n",
    "for r in regressors:\n",
    "    y_pred = r.predict(X_test_r)\n",
    "    percents_regr.append(mean_squared_error(y_test_r, y_pred))\n",
    "bar(['Linear', 'Ridge', 'ELatic', 'Lasso'], percents_regr, label = \"MSE of Regression Models\")\n",
    "    "
   ]
  },
  {
   "cell_type": "markdown",
   "metadata": {},
   "source": [
    "## 5 - Polynomial Regression\n",
    "I decided to test whether or not the model could perform better using polynomial regression as opposed to linear regression. I tested degrees 2, 3, and 4 of polynomial regression, then determined their precisions and plotted them on a bar chart. "
   ]
  },
  {
   "cell_type": "code",
   "execution_count": 34,
   "metadata": {},
   "outputs": [
    {
     "data": {
      "text/plain": [
       "<BarContainer object of 3 artists>"
      ]
     },
     "execution_count": 34,
     "metadata": {},
     "output_type": "execute_result"
    },
    {
     "data": {
      "image/png": "[encoded data removed]",
      "text/plain": [
       "<Figure size 640x480 with 1 Axes>"
      ]
     },
     "metadata": {},
     "output_type": "display_data"
    }
   ],
   "source": [
    "results = []\n",
    "for i in range(2,5):\n",
    "    X_new = PolynomialFeatures(degree=i).fit_transform(X_r)\n",
    "    X_train_poly, X_test_poly, y_train_poly, y_test_poly = train_test_split(X_new, y_r, test_size=0.25)\n",
    "    poly_reg = LinearRegression().fit(X_train_poly, y_train_poly)\n",
    "    y_pred_poly = poly_reg.predict(X_test_poly)\n",
    "    results.append(mean_squared_error(y_test_poly, y_pred_poly))\n",
    "bar(['2', '3', '4'], results, label = \"Precision of Polynomial Regression Degrees\")\n"
   ]
  },
  {
   "cell_type": "markdown",
   "metadata": {},
   "source": [
    "## 6 - Neural Networks\n",
    "Then, I looked into using a neural network model for prediction, using multi-layer perceptron, to represent nonlinear patterns. \n",
    "\n",
    "### Classification\n",
    "The first implementation is the model as an classification algorithm using softmax as the output function. I used hyperparameter tuning, experimenting with the different parameters, to maximise the precision. "
   ]
  },
  {
   "cell_type": "code",
   "execution_count": 18,
   "metadata": {},
   "outputs": [
    {
     "name": "stdout",
     "output_type": "stream",
     "text": [
      "[8 6 7 ... 6 6 6]\n",
      "61.53846153846154\n"
     ]
    }
   ],
   "source": [
    "mlp_class = MLPClassifier(learning_rate_init = 0.001, max_iter = 350, \n",
    "                          hidden_layer_sizes = (500, 250,200,100,75,50,25)).fit(X_train_c, y_train_c)\n",
    "y_pred = mlp_class.predict(X_test_c)\n",
    "print(y_pred)\n",
    "corr = 0\n",
    "for i in range(num):\n",
    "    if y_test_c.to_numpy()[i] == y_pred[i]:\n",
    "        corr += 1\n",
    "print((corr/num)*100)"
   ]
  },
  {
   "cell_type": "markdown",
   "metadata": {},
   "source": [
    "### Regression\n",
    "Then, I tested the neural network using a regression algorithm as opposed to classification, which optimises using mean squared error to train. "
   ]
  },
  {
   "cell_type": "code",
   "execution_count": 38,
   "metadata": {},
   "outputs": [
    {
     "name": "stdout",
     "output_type": "stream",
     "text": [
      "[0.18832972 0.10782641 0.19294085 ... 0.11521431 0.06556447 0.08405359]\n",
      "0.00016519606188538055\n"
     ]
    }
   ],
   "source": [
    "mlp_reg = MLPRegressor(hidden_layer_sizes = (500, 250,200,100,75,50,25)).fit(X_train_r, y_train_r)\n",
    "y_pred_reg = mlp_reg.predict(X_test_r)\n",
    "print(y_pred_reg)\n",
    "print(mean_squared_error(y_test_r, y_pred_reg))"
   ]
  },
  {
   "cell_type": "markdown",
   "metadata": {},
   "source": []
  },
  {
   "cell_type": "markdown",
   "metadata": {},
   "source": [
    "## 7 - Correlation Analysis\n",
    "Finally, I analysed which features correlated most with the quality of the wine, revealing that alcohol and citric acid had the highest positive correlation with quality, while density had the most negative correlation with quality\n"
   ]
  },
  {
   "cell_type": "code",
   "execution_count": 39,
   "metadata": {},
   "outputs": [
    {
     "data": {
      "image/png": "[encoded data removed]",
      "text/plain": [
       "<Figure size 1500x800 with 1 Axes>"
      ]
     },
     "metadata": {},
     "output_type": "display_data"
    }
   ],
   "source": [
    "columns_to_study = df.columns.tolist()[1:]\n",
    "x = df[columns_to_study].corr()\n",
    "\n",
    "correlations_with_success = x[\"quality\"].sort_values(ascending = False).drop(\"quality\")\n",
    "correlations_with_success = correlations_with_success\n",
    "plt.figure(figsize=(15,8))\n",
    "plt.plot(correlations_with_success.index, correlations_with_success.to_list())\n",
    "plt.xticks(correlations_with_success.index, rotation='vertical')\n",
    "plt.show()\n"
   ]
  }
 ],
 "metadata": {
  "kernelspec": {
   "display_name": "Python 3",
   "language": "python",
   "name": "python3"
  },
  "language_info": {
   "codemirror_mode": {
    "name": "ipython",
    "version": 3
   },
   "file_extension": ".py",
   "mimetype": "text/x-python",
   "name": "python",
   "nbconvert_exporter": "python",
   "pygments_lexer": "ipython3",
   "version": "3.12.2"
  }
 },
 "nbformat": 4,
 "nbformat_minor": 2
}
